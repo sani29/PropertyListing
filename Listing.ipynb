{
  "nbformat": 4,
  "nbformat_minor": 0,
  "metadata": {
    "colab": {
      "name": "PeopleV2.ipynb",
      "version": "0.3.2",
      "provenance": [],
      "collapsed_sections": [
        "_xlCW13ydPaF",
        "cueaYjRcf_Fn",
        "ZieJW4OfgKTi",
        "PLwcTTSbgnLV",
        "CMZ2xG3bg4Sr",
        "e5N6yWwUjo-O",
        "rWgiXfDqLKsK",
        "Zrp-u1KsNbiK",
        "nGletsAGniSg",
        "Z0YZYkNqhKjl",
        "WF6fCMX0lzXK",
        "yNym-3HUolAz",
        "0GGcXzDxic3-",
        "L_TziGh4pFCW",
        "ShPdstCfrikE"
      ]
    },
    "kernelspec": {
      "name": "python3",
      "display_name": "Python 3"
    }
  },
  "cells": [
    {
      "metadata": {
        "id": "Jwwqnz2BcxQM",
        "colab_type": "code",
        "outputId": "8e33a070-1ffe-4572-bdc4-87c6b84ff32b",
        "colab": {
          "base_uri": "https://localhost:8080/",
          "height": 125
        }
      },
      "cell_type": "code",
      "source": [
        "from google.colab import drive\n",
        "drive.mount('/content/gdrive')"
      ],
      "execution_count": 1,
      "outputs": [
        {
          "output_type": "stream",
          "text": [
            "Go to this URL in a browser: https://accounts.google.com/o/oauth2/auth?client_id=947318989803-6bn6qk8qdgf4n4g3pfee6491hc0brc4i.apps.googleusercontent.com&redirect_uri=urn%3Aietf%3Awg%3Aoauth%3A2.0%3Aoob&scope=email%20https%3A%2F%2Fwww.googleapis.com%2Fauth%2Fdocs.test%20https%3A%2F%2Fwww.googleapis.com%2Fauth%2Fdrive%20https%3A%2F%2Fwww.googleapis.com%2Fauth%2Fdrive.photos.readonly%20https%3A%2F%2Fwww.googleapis.com%2Fauth%2Fpeopleapi.readonly&response_type=code\n",
            "\n",
            "Enter your authorization code:\n",
            "··········\n",
            "Mounted at /content/gdrive\n"
          ],
          "name": "stdout"
        }
      ]
    },
    {
      "metadata": {
        "id": "_xlCW13ydPaF",
        "colab_type": "text"
      },
      "cell_type": "markdown",
      "source": [
        "# Importing Libraries"
      ]
    },
    {
      "metadata": {
        "id": "yEZ0oxxcc39f",
        "colab_type": "code",
        "colab": {}
      },
      "cell_type": "code",
      "source": [
        "import pandas as pd\n",
        "from pandas import Series,DataFrame\n",
        "import numpy as np\n",
        "from sklearn.preprocessing import LabelEncoder\n",
        "from sklearn.metrics import confusion_matrix \n",
        "\n",
        "#ignore warnings\n",
        "import warnings\n",
        "warnings.filterwarnings('ignore')\n",
        "import os\n",
        "\n",
        "#Visualization\n",
        "import matplotlib as mpl\n",
        "import matplotlib.pyplot as plt\n",
        "import matplotlib.pylab as pylab\n",
        "import seaborn as sns\n",
        "#Configure Visualization Defaults\n",
        "#%matplotlib inline = show plots in Jupyter Notebook browser\n",
        "mpl.style.use('ggplot')\n",
        "sns.set_style('white')\n",
        "pylab.rcParams['figure.figsize'] = 12,8\n",
        "%matplotlib inline\n",
        "\n",
        "# Algorithms\n",
        "from sklearn.linear_model import LogisticRegression\n",
        "from sklearn.svm import SVC, LinearSVC\n",
        "from sklearn.ensemble import RandomForestClassifier,AdaBoostClassifier,GradientBoostingClassifier,ExtraTreesClassifier\n",
        "from sklearn.neighbors import KNeighborsClassifier\n",
        "from sklearn.naive_bayes import GaussianNB\n",
        "import xgboost as xgb"
      ],
      "execution_count": 0,
      "outputs": []
    },
    {
      "metadata": {
        "id": "IaqLgSE3eAc4",
        "colab_type": "text"
      },
      "cell_type": "markdown",
      "source": [
        "# Importing the dataset\n",
        "Dataset is compressed. Therefore, first I unzipped the datasets and then importing them."
      ]
    },
    {
      "metadata": {
        "id": "7OKCQjnZd44W",
        "colab_type": "code",
        "colab": {}
      },
      "cell_type": "code",
      "source": [
        "import zipfile\n",
        "\n",
        "zf = zipfile.ZipFile('/content/gdrive/My Drive/PeopleInteractive/listings.zip')\n",
        "df = pd.read_csv(zf.open(\"listings.csv\"), sep=\";\")\n",
        "\n",
        "zf2 = zipfile.ZipFile('/content/gdrive/My Drive/PeopleInteractive/listings_test_send.zip')\n",
        "test_df = pd.read_csv(zf2.open(\"listings_test_send.csv\"), sep=\";\")"
      ],
      "execution_count": 0,
      "outputs": []
    },
    {
      "metadata": {
        "id": "sDD53CFneSn6",
        "colab_type": "code",
        "outputId": "d8102025-5db7-40b6-9677-735d7165e8ae",
        "colab": {
          "base_uri": "https://localhost:8080/",
          "height": 70
        }
      },
      "cell_type": "code",
      "source": [
        "#checking the data size\n",
        "print(\"\\nThe train data size is : {} \".format(df.shape))\n",
        "print(\"The test data size is : {} \".format(test_df.shape))"
      ],
      "execution_count": 105,
      "outputs": [
        {
          "output_type": "stream",
          "text": [
            "\n",
            "The train data size is : (341147, 73) \n",
            "The test data size is : (100703, 72) \n"
          ],
          "name": "stdout"
        }
      ]
    },
    {
      "metadata": {
        "id": "qTieL8ZpevWd",
        "colab_type": "code",
        "outputId": "22de68d3-6d13-4ed4-e0dc-4da001ee1567",
        "colab": {
          "base_uri": "https://localhost:8080/",
          "height": 2790
        }
      },
      "cell_type": "code",
      "source": [
        "df.info()\n",
        "print('-'*25)\n",
        "test_df.info()"
      ],
      "execution_count": 106,
      "outputs": [
        {
          "output_type": "stream",
          "text": [
            "<class 'pandas.core.frame.DataFrame'>\n",
            "RangeIndex: 341147 entries, 0 to 341146\n",
            "Data columns (total 73 columns):\n",
            "Unnamed: 0                        341147 non-null object\n",
            "ID                                281035 non-null object\n",
            "Name                              340843 non-null object\n",
            "Summary                           330066 non-null object\n",
            "Space                             239355 non-null object\n",
            "Description                       341040 non-null object\n",
            "Experiences_Offered               341147 non-null object\n",
            "Neighborhood_Overview             201313 non-null object\n",
            "Notes                             135623 non-null object\n",
            "Transit                           209960 non-null object\n",
            "Access                            185199 non-null object\n",
            "Interaction                       177176 non-null object\n",
            "House_Rules                       205030 non-null object\n",
            "Host_Name                         340783 non-null object\n",
            "Host_Since                        340783 non-null object\n",
            "Host_Location                     339552 non-null object\n",
            "Host_About                        204448 non-null object\n",
            "Host_Response_Time                261075 non-null object\n",
            "Host_Response_Rate                215159 non-null float64\n",
            "Host_Acceptance_Rate              29499 non-null object\n",
            "Host_Neighbourhood                255557 non-null object\n",
            "Host_Listings_Count               339843 non-null object\n",
            "Host_Total_Listings_Count         339843 non-null float64\n",
            "Street                            340207 non-null object\n",
            "Neighbourhood                     238434 non-null object\n",
            "Neighbourhood_Cleansed            340207 non-null object\n",
            "Neighbourhood_Group_Cleansed      71613 non-null object\n",
            "City                              339884 non-null object\n",
            "State                             305502 non-null object\n",
            "Zipcode                           326578 non-null object\n",
            "Market                            336225 non-null object\n",
            "Smart_Location                    340189 non-null object\n",
            "Country_Code                      340190 non-null object\n",
            "Country                           340197 non-null object\n",
            "Latitude                          280102 non-null float64\n",
            "Longitude                         280097 non-null float64\n",
            "Property_Type                     340202 non-null object\n",
            "Room_Type                         340207 non-null object\n",
            "Accommodates                      340167 non-null object\n",
            "Bathrooms                         339144 non-null float64\n",
            "Bedrooms                          339768 non-null float64\n",
            "Beds                              339547 non-null float64\n",
            "Bed_Type                          340207 non-null object\n",
            "Amenities                         337624 non-null object\n",
            "Square_Feet                       8222 non-null object\n",
            "Price                             275353 non-null float64\n",
            "Weekly_Price                      55155 non-null object\n",
            "Monthly_Price                     53889 non-null object\n",
            "Security_Deposit                  115773 non-null float64\n",
            "Cleaning_Fee                      176361 non-null object\n",
            "Guests_Included                   340207 non-null object\n",
            "Extra_People                      280078 non-null float64\n",
            "Minimum_Nights                    340207 non-null float64\n",
            "Maximum_Nights                    340203 non-null object\n",
            "Calendar_Updated                  340203 non-null object\n",
            "Has_Availability                  6436 non-null object\n",
            "Availability_30                   340207 non-null float64\n",
            "Availability_60                   340188 non-null float64\n",
            "Availability_90                   340188 non-null float64\n",
            "Availability_365                  340188 non-null float64\n",
            "Calendar_last_Scraped             340188 non-null object\n",
            "Number_of_Reviews                 340188 non-null float64\n",
            "First_Review                      256793 non-null object\n",
            "Last_Review                       256864 non-null object\n",
            "License                           10202 non-null object\n",
            "Jurisdiction_Names                94195 non-null object\n",
            "Cancellation_Policy               340188 non-null object\n",
            "Calculated_host_listings_count    339579 non-null float64\n",
            "Reviews_per_Month                 256793 non-null float64\n",
            "Geolocation                       280083 non-null object\n",
            "Features                          279913 non-null object\n",
            "Listing_Type                      340189 non-null object\n",
            "Rating                            251473 non-null float64\n",
            "dtypes: float64(19), object(54)\n",
            "memory usage: 190.0+ MB\n",
            "-------------------------\n",
            "<class 'pandas.core.frame.DataFrame'>\n",
            "RangeIndex: 100703 entries, 0 to 100702\n",
            "Data columns (total 72 columns):\n",
            "Unnamed: 0                        100703 non-null int64\n",
            "GUID                              100703 non-null int64\n",
            "Name                              100629 non-null object\n",
            "Summary                           97414 non-null object\n",
            "Space                             70226 non-null object\n",
            "Description                       100674 non-null object\n",
            "Experiences_Offered               100703 non-null object\n",
            "Neighborhood_Overview             59033 non-null object\n",
            "Notes                             39810 non-null object\n",
            "Transit                           61522 non-null object\n",
            "Access                            54337 non-null object\n",
            "Interaction                       51648 non-null object\n",
            "House_Rules                       60194 non-null object\n",
            "Host_Name                         100610 non-null object\n",
            "Host_Since                        100609 non-null object\n",
            "Host_Location                     100268 non-null object\n",
            "Host_About                        60461 non-null object\n",
            "Host_Response_Time                77122 non-null object\n",
            "Host_Response_Rate                63414 non-null float64\n",
            "Host_Acceptance_Rate              8796 non-null object\n",
            "Host_Neighbourhood                75610 non-null object\n",
            "Host_Listings_Count               100610 non-null float64\n",
            "Host_Total_Listings_Count         100609 non-null float64\n",
            "Street                            100703 non-null object\n",
            "Neighbourhood                     70486 non-null object\n",
            "Neighbourhood_Cleansed            100703 non-null object\n",
            "Neighbourhood_Group_Cleansed      20970 non-null object\n",
            "City                              100617 non-null object\n",
            "State                             90259 non-null object\n",
            "Zipcode                           96755 non-null object\n",
            "Market                            99546 non-null object\n",
            "Smart_Location                    100703 non-null object\n",
            "Country_Code                      100702 non-null object\n",
            "Country                           100702 non-null object\n",
            "Latitude                          82844 non-null float64\n",
            "Longitude                         82844 non-null float64\n",
            "Property_Type                     100699 non-null object\n",
            "Room_Type                         100703 non-null object\n",
            "Accommodates                      100685 non-null float64\n",
            "Bathrooms                         100364 non-null float64\n",
            "Bedrooms                          100578 non-null float64\n",
            "Beds                              100532 non-null float64\n",
            "Bed_Type                          100703 non-null object\n",
            "Amenities                         99966 non-null object\n",
            "Square_Feet                       2469 non-null float64\n",
            "Price                             81436 non-null float64\n",
            "Weekly_Price                      16342 non-null float64\n",
            "Monthly_Price                     15776 non-null float64\n",
            "Security_Deposit                  34252 non-null float64\n",
            "Cleaning_Fee                      52343 non-null float64\n",
            "Guests_Included                   100702 non-null float64\n",
            "Extra_People                      82838 non-null float64\n",
            "Minimum_Nights                    100702 non-null float64\n",
            "Maximum_Nights                    100702 non-null float64\n",
            "Calendar_Updated                  100703 non-null object\n",
            "Has_Availability                  2005 non-null object\n",
            "Availability_30                   100702 non-null float64\n",
            "Availability_60                   100702 non-null float64\n",
            "Availability_90                   100702 non-null float64\n",
            "Availability_365                  100702 non-null float64\n",
            "Calendar_last_Scraped             100702 non-null object\n",
            "Number_of_Reviews                 100702 non-null float64\n",
            "First_Review                      76012 non-null object\n",
            "Last_Review                       76042 non-null object\n",
            "License                           2993 non-null object\n",
            "Jurisdiction_Names                27950 non-null object\n",
            "Cancellation_Policy               100702 non-null object\n",
            "Calculated_host_listings_count    100535 non-null float64\n",
            "Reviews_per_Month                 76012 non-null float64\n",
            "Geolocation                       82844 non-null object\n",
            "Features                          82788 non-null object\n",
            "Rating                            74488 non-null float64\n",
            "dtypes: float64(27), int64(2), object(43)\n",
            "memory usage: 55.3+ MB\n"
          ],
          "name": "stdout"
        }
      ]
    },
    {
      "metadata": {
        "id": "F9KLpeTre6cZ",
        "colab_type": "code",
        "outputId": "309577e0-3222-4d49-ba11-77e488b86bcc",
        "colab": {
          "base_uri": "https://localhost:8080/",
          "height": 713
        }
      },
      "cell_type": "code",
      "source": [
        "df.head(5)"
      ],
      "execution_count": 107,
      "outputs": [
        {
          "output_type": "execute_result",
          "data": {
            "text/html": [
              "<div>\n",
              "<style scoped>\n",
              "    .dataframe tbody tr th:only-of-type {\n",
              "        vertical-align: middle;\n",
              "    }\n",
              "\n",
              "    .dataframe tbody tr th {\n",
              "        vertical-align: top;\n",
              "    }\n",
              "\n",
              "    .dataframe thead th {\n",
              "        text-align: right;\n",
              "    }\n",
              "</style>\n",
              "<table border=\"1\" class=\"dataframe\">\n",
              "  <thead>\n",
              "    <tr style=\"text-align: right;\">\n",
              "      <th></th>\n",
              "      <th>Unnamed: 0</th>\n",
              "      <th>ID</th>\n",
              "      <th>Name</th>\n",
              "      <th>Summary</th>\n",
              "      <th>Space</th>\n",
              "      <th>Description</th>\n",
              "      <th>Experiences_Offered</th>\n",
              "      <th>Neighborhood_Overview</th>\n",
              "      <th>Notes</th>\n",
              "      <th>Transit</th>\n",
              "      <th>...</th>\n",
              "      <th>Last_Review</th>\n",
              "      <th>License</th>\n",
              "      <th>Jurisdiction_Names</th>\n",
              "      <th>Cancellation_Policy</th>\n",
              "      <th>Calculated_host_listings_count</th>\n",
              "      <th>Reviews_per_Month</th>\n",
              "      <th>Geolocation</th>\n",
              "      <th>Features</th>\n",
              "      <th>Listing_Type</th>\n",
              "      <th>Rating</th>\n",
              "    </tr>\n",
              "  </thead>\n",
              "  <tbody>\n",
              "    <tr>\n",
              "      <th>0</th>\n",
              "      <td>70285</td>\n",
              "      <td>199681.0</td>\n",
              "      <td>Private room in sunny three bedroom</td>\n",
              "      <td>This apartment in the West Rogers Park (or Wes...</td>\n",
              "      <td>Hi there traveler.  Thanks for considering sta...</td>\n",
              "      <td>This apartment in the West Rogers Park (or Wes...</td>\n",
              "      <td>none</td>\n",
              "      <td>I love that my neighborhood is so quiet and lo...</td>\n",
              "      <td>NaN</td>\n",
              "      <td>Parking around here is very easy. You might wi...</td>\n",
              "      <td>...</td>\n",
              "      <td>2016-09-18</td>\n",
              "      <td>City registration pending</td>\n",
              "      <td>Illinois State, Cook County, IL, CHICAGO</td>\n",
              "      <td>moderate</td>\n",
              "      <td>4.0</td>\n",
              "      <td>1.34</td>\n",
              "      <td>41.9941700301, -87.6920295649</td>\n",
              "      <td>Host Has Profile Pic,Host Identity Verified,Re...</td>\n",
              "      <td>Good</td>\n",
              "      <td>67259.201267</td>\n",
              "    </tr>\n",
              "    <tr>\n",
              "      <th>1</th>\n",
              "      <td>44913</td>\n",
              "      <td>4216764.0</td>\n",
              "      <td>Lovely &amp; cute apartment</td>\n",
              "      <td>Lovely apartment for a couple or a single pers...</td>\n",
              "      <td>Interior desig in accordance with the Scandina...</td>\n",
              "      <td>Lovely apartment for a couple or a single pers...</td>\n",
              "      <td>none</td>\n",
              "      <td>Quite and peaceful neighborhood in the Frederi...</td>\n",
              "      <td>Please note that the bed is rather small (1,5 ...</td>\n",
              "      <td>Close to bus and the metro stations 'Frederiks...</td>\n",
              "      <td>...</td>\n",
              "      <td>2014-10-31</td>\n",
              "      <td>NaN</td>\n",
              "      <td>NaN</td>\n",
              "      <td>flexible</td>\n",
              "      <td>1.0</td>\n",
              "      <td>0.03</td>\n",
              "      <td>55.6913945558, 12.5352884346</td>\n",
              "      <td>Host Has Profile Pic</td>\n",
              "      <td>Good</td>\n",
              "      <td>58503.191267</td>\n",
              "    </tr>\n",
              "    <tr>\n",
              "      <th>2</th>\n",
              "      <td>154025</td>\n",
              "      <td>14879686.0</td>\n",
              "      <td>Unique house with a beautiful garden</td>\n",
              "      <td>Beautiful design cosy family house with a nice...</td>\n",
              "      <td>Beautiful garden, two level house (105 m2) nea...</td>\n",
              "      <td>Beautiful design cosy family house with a nice...</td>\n",
              "      <td>none</td>\n",
              "      <td>Nice multicultural neighbourhood with plenty o...</td>\n",
              "      <td>Since our house is designed to be child friend...</td>\n",
              "      <td>Tram and bus stops in a 5 minutes walk distanc...</td>\n",
              "      <td>...</td>\n",
              "      <td>2016-10-02</td>\n",
              "      <td>NaN</td>\n",
              "      <td>Amsterdam</td>\n",
              "      <td>strict</td>\n",
              "      <td>1.0</td>\n",
              "      <td>0.29</td>\n",
              "      <td>52.3689656398, 4.84983993143</td>\n",
              "      <td>Host Has Profile Pic,Is Location Exact</td>\n",
              "      <td>Good</td>\n",
              "      <td>58480.587448</td>\n",
              "    </tr>\n",
              "    <tr>\n",
              "      <th>3</th>\n",
              "      <td>281148</td>\n",
              "      <td>9879014.0</td>\n",
              "      <td>Résidence du 14 Rue des Sablons;</td>\n",
              "      <td>50 m2, un grand lit et un canapé lit deux plac...</td>\n",
              "      <td>NaN</td>\n",
              "      <td>50 m2, un grand lit et un canapé lit deux plac...</td>\n",
              "      <td>none</td>\n",
              "      <td>NaN</td>\n",
              "      <td>NaN</td>\n",
              "      <td>NaN</td>\n",
              "      <td>...</td>\n",
              "      <td>NaN</td>\n",
              "      <td>NaN</td>\n",
              "      <td>Paris</td>\n",
              "      <td>flexible</td>\n",
              "      <td>1.0</td>\n",
              "      <td>NaN</td>\n",
              "      <td>48.8663711212, 2.28291441119</td>\n",
              "      <td>Host Has Profile Pic,Is Location Exact</td>\n",
              "      <td>Bad</td>\n",
              "      <td>NaN</td>\n",
              "    </tr>\n",
              "    <tr>\n",
              "      <th>4</th>\n",
              "      <td>235251</td>\n",
              "      <td>14372222.0</td>\n",
              "      <td>Darling 2 story historical spanish</td>\n",
              "      <td>2 blocks from beach, 1 block from 2nd st</td>\n",
              "      <td>NaN</td>\n",
              "      <td>2 blocks from beach, 1 block from 2nd st Kitch...</td>\n",
              "      <td>none</td>\n",
              "      <td>NaN</td>\n",
              "      <td>NaN</td>\n",
              "      <td>Yes</td>\n",
              "      <td>...</td>\n",
              "      <td>NaN</td>\n",
              "      <td>NaN</td>\n",
              "      <td>NaN</td>\n",
              "      <td>flexible</td>\n",
              "      <td>1.0</td>\n",
              "      <td>NaN</td>\n",
              "      <td>33.7595912067, -118.138810843</td>\n",
              "      <td>Host Has Profile Pic</td>\n",
              "      <td>Bad</td>\n",
              "      <td>NaN</td>\n",
              "    </tr>\n",
              "  </tbody>\n",
              "</table>\n",
              "<p>5 rows × 73 columns</p>\n",
              "</div>"
            ],
            "text/plain": [
              "  Unnamed: 0          ID                                  Name  \\\n",
              "0      70285    199681.0   Private room in sunny three bedroom   \n",
              "1      44913   4216764.0               Lovely & cute apartment   \n",
              "2     154025  14879686.0  Unique house with a beautiful garden   \n",
              "3     281148   9879014.0      Résidence du 14 Rue des Sablons;   \n",
              "4     235251  14372222.0    Darling 2 story historical spanish   \n",
              "\n",
              "                                             Summary  \\\n",
              "0  This apartment in the West Rogers Park (or Wes...   \n",
              "1  Lovely apartment for a couple or a single pers...   \n",
              "2  Beautiful design cosy family house with a nice...   \n",
              "3  50 m2, un grand lit et un canapé lit deux plac...   \n",
              "4           2 blocks from beach, 1 block from 2nd st   \n",
              "\n",
              "                                               Space  \\\n",
              "0  Hi there traveler.  Thanks for considering sta...   \n",
              "1  Interior desig in accordance with the Scandina...   \n",
              "2  Beautiful garden, two level house (105 m2) nea...   \n",
              "3                                                NaN   \n",
              "4                                                NaN   \n",
              "\n",
              "                                         Description Experiences_Offered  \\\n",
              "0  This apartment in the West Rogers Park (or Wes...                none   \n",
              "1  Lovely apartment for a couple or a single pers...                none   \n",
              "2  Beautiful design cosy family house with a nice...                none   \n",
              "3  50 m2, un grand lit et un canapé lit deux plac...                none   \n",
              "4  2 blocks from beach, 1 block from 2nd st Kitch...                none   \n",
              "\n",
              "                               Neighborhood_Overview  \\\n",
              "0  I love that my neighborhood is so quiet and lo...   \n",
              "1  Quite and peaceful neighborhood in the Frederi...   \n",
              "2  Nice multicultural neighbourhood with plenty o...   \n",
              "3                                                NaN   \n",
              "4                                                NaN   \n",
              "\n",
              "                                               Notes  \\\n",
              "0                                                NaN   \n",
              "1  Please note that the bed is rather small (1,5 ...   \n",
              "2  Since our house is designed to be child friend...   \n",
              "3                                                NaN   \n",
              "4                                                NaN   \n",
              "\n",
              "                                             Transit      ...       \\\n",
              "0  Parking around here is very easy. You might wi...      ...        \n",
              "1  Close to bus and the metro stations 'Frederiks...      ...        \n",
              "2  Tram and bus stops in a 5 minutes walk distanc...      ...        \n",
              "3                                                NaN      ...        \n",
              "4                                                Yes      ...        \n",
              "\n",
              "  Last_Review                    License  \\\n",
              "0  2016-09-18  City registration pending   \n",
              "1  2014-10-31                        NaN   \n",
              "2  2016-10-02                        NaN   \n",
              "3         NaN                        NaN   \n",
              "4         NaN                        NaN   \n",
              "\n",
              "                         Jurisdiction_Names Cancellation_Policy  \\\n",
              "0  Illinois State, Cook County, IL, CHICAGO            moderate   \n",
              "1                                       NaN            flexible   \n",
              "2                                 Amsterdam              strict   \n",
              "3                                     Paris            flexible   \n",
              "4                                       NaN            flexible   \n",
              "\n",
              "  Calculated_host_listings_count Reviews_per_Month  \\\n",
              "0                            4.0              1.34   \n",
              "1                            1.0              0.03   \n",
              "2                            1.0              0.29   \n",
              "3                            1.0               NaN   \n",
              "4                            1.0               NaN   \n",
              "\n",
              "                     Geolocation  \\\n",
              "0  41.9941700301, -87.6920295649   \n",
              "1   55.6913945558, 12.5352884346   \n",
              "2   52.3689656398, 4.84983993143   \n",
              "3   48.8663711212, 2.28291441119   \n",
              "4  33.7595912067, -118.138810843   \n",
              "\n",
              "                                            Features  Listing_Type  \\\n",
              "0  Host Has Profile Pic,Host Identity Verified,Re...          Good   \n",
              "1                               Host Has Profile Pic          Good   \n",
              "2             Host Has Profile Pic,Is Location Exact          Good   \n",
              "3             Host Has Profile Pic,Is Location Exact           Bad   \n",
              "4                               Host Has Profile Pic           Bad   \n",
              "\n",
              "         Rating  \n",
              "0  67259.201267  \n",
              "1  58503.191267  \n",
              "2  58480.587448  \n",
              "3           NaN  \n",
              "4           NaN  \n",
              "\n",
              "[5 rows x 73 columns]"
            ]
          },
          "metadata": {
            "tags": []
          },
          "execution_count": 107
        }
      ]
    },
    {
      "metadata": {
        "id": "WBgau5qhfCCy",
        "colab_type": "code",
        "outputId": "ba5a1f78-ab3d-40d7-b369-2796ed756478",
        "colab": {
          "base_uri": "https://localhost:8080/",
          "height": 713
        }
      },
      "cell_type": "code",
      "source": [
        "test_df.head(5)"
      ],
      "execution_count": 108,
      "outputs": [
        {
          "output_type": "execute_result",
          "data": {
            "text/html": [
              "<div>\n",
              "<style scoped>\n",
              "    .dataframe tbody tr th:only-of-type {\n",
              "        vertical-align: middle;\n",
              "    }\n",
              "\n",
              "    .dataframe tbody tr th {\n",
              "        vertical-align: top;\n",
              "    }\n",
              "\n",
              "    .dataframe thead th {\n",
              "        text-align: right;\n",
              "    }\n",
              "</style>\n",
              "<table border=\"1\" class=\"dataframe\">\n",
              "  <thead>\n",
              "    <tr style=\"text-align: right;\">\n",
              "      <th></th>\n",
              "      <th>Unnamed: 0</th>\n",
              "      <th>GUID</th>\n",
              "      <th>Name</th>\n",
              "      <th>Summary</th>\n",
              "      <th>Space</th>\n",
              "      <th>Description</th>\n",
              "      <th>Experiences_Offered</th>\n",
              "      <th>Neighborhood_Overview</th>\n",
              "      <th>Notes</th>\n",
              "      <th>Transit</th>\n",
              "      <th>...</th>\n",
              "      <th>First_Review</th>\n",
              "      <th>Last_Review</th>\n",
              "      <th>License</th>\n",
              "      <th>Jurisdiction_Names</th>\n",
              "      <th>Cancellation_Policy</th>\n",
              "      <th>Calculated_host_listings_count</th>\n",
              "      <th>Reviews_per_Month</th>\n",
              "      <th>Geolocation</th>\n",
              "      <th>Features</th>\n",
              "      <th>Rating</th>\n",
              "    </tr>\n",
              "  </thead>\n",
              "  <tbody>\n",
              "    <tr>\n",
              "      <th>0</th>\n",
              "      <td>0</td>\n",
              "      <td>44365</td>\n",
              "      <td>Spacious Modern Loft in Surry Hills</td>\n",
              "      <td>We invite you to stay in our spacious and tren...</td>\n",
              "      <td>Our spacious and trendy loft apartment is spli...</td>\n",
              "      <td>We invite you to stay in our spacious and tren...</td>\n",
              "      <td>none</td>\n",
              "      <td>Great restaurants and bars in Surry Hills. All...</td>\n",
              "      <td>There is a sofa bed in the Study if there are ...</td>\n",
              "      <td>The apartment is a 5 minute walk from Central ...</td>\n",
              "      <td>...</td>\n",
              "      <td>NaN</td>\n",
              "      <td>NaN</td>\n",
              "      <td>NaN</td>\n",
              "      <td>NaN</td>\n",
              "      <td>strict</td>\n",
              "      <td>1.0</td>\n",
              "      <td>NaN</td>\n",
              "      <td>NaN</td>\n",
              "      <td>NaN</td>\n",
              "      <td>NaN</td>\n",
              "    </tr>\n",
              "    <tr>\n",
              "      <th>1</th>\n",
              "      <td>1</td>\n",
              "      <td>90920</td>\n",
              "      <td>Bright, spacious sanctuary duplex, modern haci...</td>\n",
              "      <td>2017 October availability:  Lot's of natural l...</td>\n",
              "      <td>Truly unique in Chicago, this duplex up was de...</td>\n",
              "      <td>2017 October availability:  Lot's of natural l...</td>\n",
              "      <td>none</td>\n",
              "      <td>Amazing West Town corner location in Ukrainian...</td>\n",
              "      <td>Main outside door must be checked and kept clo...</td>\n",
              "      <td>CTA Grand Avenue bus #65 stops right in front....</td>\n",
              "      <td>...</td>\n",
              "      <td>2017-02-27</td>\n",
              "      <td>2017-03-28</td>\n",
              "      <td>City registration pending</td>\n",
              "      <td>Illinois State, Cook County, IL, CHICAGO</td>\n",
              "      <td>strict</td>\n",
              "      <td>1.0</td>\n",
              "      <td>0.82</td>\n",
              "      <td>41.8903865975, -87.6840709393</td>\n",
              "      <td>Host Has Profile Pic,Host Identity Verified,Is...</td>\n",
              "      <td>73124.715357</td>\n",
              "    </tr>\n",
              "    <tr>\n",
              "      <th>2</th>\n",
              "      <td>2</td>\n",
              "      <td>306757</td>\n",
              "      <td>Central London penthouse EC1</td>\n",
              "      <td>The accommodation is a double bedroom (with ac...</td>\n",
              "      <td>A modern penthouse in an old factory with a vi...</td>\n",
              "      <td>The accommodation is a double bedroom (with ac...</td>\n",
              "      <td>none</td>\n",
              "      <td>Vibrant, stylish, historic - Clerkenwell has e...</td>\n",
              "      <td>NaN</td>\n",
              "      <td>Spoilt for choice - we are so central that we ...</td>\n",
              "      <td>...</td>\n",
              "      <td>2015-06-08</td>\n",
              "      <td>2017-03-03</td>\n",
              "      <td>NaN</td>\n",
              "      <td>NaN</td>\n",
              "      <td>strict</td>\n",
              "      <td>1.0</td>\n",
              "      <td>7.16</td>\n",
              "      <td>51.5259876158, -0.105389874967</td>\n",
              "      <td>Host Is Superhost,Host Has Profile Pic,Host Id...</td>\n",
              "      <td>71669.189303</td>\n",
              "    </tr>\n",
              "    <tr>\n",
              "      <th>3</th>\n",
              "      <td>3</td>\n",
              "      <td>446360</td>\n",
              "      <td>Cosy &amp; Design 2 bedroom flat ALIGRE</td>\n",
              "      <td>NaN</td>\n",
              "      <td>Lovely Flat, fully renovated, ideally located ...</td>\n",
              "      <td>Lovely Flat, fully renovated, ideally located ...</td>\n",
              "      <td>none</td>\n",
              "      <td>NaN</td>\n",
              "      <td>NaN</td>\n",
              "      <td>NaN</td>\n",
              "      <td>...</td>\n",
              "      <td>NaN</td>\n",
              "      <td>NaN</td>\n",
              "      <td>NaN</td>\n",
              "      <td>Paris</td>\n",
              "      <td>moderate</td>\n",
              "      <td>1.0</td>\n",
              "      <td>NaN</td>\n",
              "      <td>48.8447276192, 2.38201047088</td>\n",
              "      <td>Host Has Profile Pic,Is Location Exact</td>\n",
              "      <td>NaN</td>\n",
              "    </tr>\n",
              "    <tr>\n",
              "      <th>4</th>\n",
              "      <td>4</td>\n",
              "      <td>191221</td>\n",
              "      <td>Casa de vacaciones \"Casa Rosa\"</td>\n",
              "      <td>Nuestra casa, situada en un entorno tranquilo ...</td>\n",
              "      <td>NaN</td>\n",
              "      <td>Piscina y jardin privado Es una zona muy tranq...</td>\n",
              "      <td>none</td>\n",
              "      <td>Es una zona muy tranquila, perfecta para vacac...</td>\n",
              "      <td>NaN</td>\n",
              "      <td>Para moverse de una zona a otra lo mejor es al...</td>\n",
              "      <td>...</td>\n",
              "      <td>NaN</td>\n",
              "      <td>NaN</td>\n",
              "      <td>NaN</td>\n",
              "      <td>NaN</td>\n",
              "      <td>strict</td>\n",
              "      <td>2.0</td>\n",
              "      <td>NaN</td>\n",
              "      <td>39.9173293851, 3.05069931089</td>\n",
              "      <td>Host Has Profile Pic,Is Location Exact,Require...</td>\n",
              "      <td>NaN</td>\n",
              "    </tr>\n",
              "  </tbody>\n",
              "</table>\n",
              "<p>5 rows × 72 columns</p>\n",
              "</div>"
            ],
            "text/plain": [
              "   Unnamed: 0    GUID                                               Name  \\\n",
              "0           0   44365                Spacious Modern Loft in Surry Hills   \n",
              "1           1   90920  Bright, spacious sanctuary duplex, modern haci...   \n",
              "2           2  306757                       Central London penthouse EC1   \n",
              "3           3  446360                Cosy & Design 2 bedroom flat ALIGRE   \n",
              "4           4  191221                     Casa de vacaciones \"Casa Rosa\"   \n",
              "\n",
              "                                             Summary  \\\n",
              "0  We invite you to stay in our spacious and tren...   \n",
              "1  2017 October availability:  Lot's of natural l...   \n",
              "2  The accommodation is a double bedroom (with ac...   \n",
              "3                                                NaN   \n",
              "4  Nuestra casa, situada en un entorno tranquilo ...   \n",
              "\n",
              "                                               Space  \\\n",
              "0  Our spacious and trendy loft apartment is spli...   \n",
              "1  Truly unique in Chicago, this duplex up was de...   \n",
              "2  A modern penthouse in an old factory with a vi...   \n",
              "3  Lovely Flat, fully renovated, ideally located ...   \n",
              "4                                                NaN   \n",
              "\n",
              "                                         Description Experiences_Offered  \\\n",
              "0  We invite you to stay in our spacious and tren...                none   \n",
              "1  2017 October availability:  Lot's of natural l...                none   \n",
              "2  The accommodation is a double bedroom (with ac...                none   \n",
              "3  Lovely Flat, fully renovated, ideally located ...                none   \n",
              "4  Piscina y jardin privado Es una zona muy tranq...                none   \n",
              "\n",
              "                               Neighborhood_Overview  \\\n",
              "0  Great restaurants and bars in Surry Hills. All...   \n",
              "1  Amazing West Town corner location in Ukrainian...   \n",
              "2  Vibrant, stylish, historic - Clerkenwell has e...   \n",
              "3                                                NaN   \n",
              "4  Es una zona muy tranquila, perfecta para vacac...   \n",
              "\n",
              "                                               Notes  \\\n",
              "0  There is a sofa bed in the Study if there are ...   \n",
              "1  Main outside door must be checked and kept clo...   \n",
              "2                                                NaN   \n",
              "3                                                NaN   \n",
              "4                                                NaN   \n",
              "\n",
              "                                             Transit      ...       \\\n",
              "0  The apartment is a 5 minute walk from Central ...      ...        \n",
              "1  CTA Grand Avenue bus #65 stops right in front....      ...        \n",
              "2  Spoilt for choice - we are so central that we ...      ...        \n",
              "3                                                NaN      ...        \n",
              "4  Para moverse de una zona a otra lo mejor es al...      ...        \n",
              "\n",
              "  First_Review Last_Review                    License  \\\n",
              "0          NaN         NaN                        NaN   \n",
              "1   2017-02-27  2017-03-28  City registration pending   \n",
              "2   2015-06-08  2017-03-03                        NaN   \n",
              "3          NaN         NaN                        NaN   \n",
              "4          NaN         NaN                        NaN   \n",
              "\n",
              "                         Jurisdiction_Names Cancellation_Policy  \\\n",
              "0                                       NaN              strict   \n",
              "1  Illinois State, Cook County, IL, CHICAGO              strict   \n",
              "2                                       NaN              strict   \n",
              "3                                     Paris            moderate   \n",
              "4                                       NaN              strict   \n",
              "\n",
              "  Calculated_host_listings_count Reviews_per_Month  \\\n",
              "0                            1.0               NaN   \n",
              "1                            1.0              0.82   \n",
              "2                            1.0              7.16   \n",
              "3                            1.0               NaN   \n",
              "4                            2.0               NaN   \n",
              "\n",
              "                      Geolocation  \\\n",
              "0                             NaN   \n",
              "1   41.8903865975, -87.6840709393   \n",
              "2  51.5259876158, -0.105389874967   \n",
              "3    48.8447276192, 2.38201047088   \n",
              "4    39.9173293851, 3.05069931089   \n",
              "\n",
              "                                            Features        Rating  \n",
              "0                                                NaN           NaN  \n",
              "1  Host Has Profile Pic,Host Identity Verified,Is...  73124.715357  \n",
              "2  Host Is Superhost,Host Has Profile Pic,Host Id...  71669.189303  \n",
              "3             Host Has Profile Pic,Is Location Exact           NaN  \n",
              "4  Host Has Profile Pic,Is Location Exact,Require...           NaN  \n",
              "\n",
              "[5 rows x 72 columns]"
            ]
          },
          "metadata": {
            "tags": []
          },
          "execution_count": 108
        }
      ]
    },
    {
      "metadata": {
        "id": "cueaYjRcf_Fn",
        "colab_type": "text"
      },
      "cell_type": "markdown",
      "source": [
        "# Non-common columns in df and test_df. \n",
        "To find non-common columns first I make a list of column's headers for each df and test_df. Then a construct a set out of list items. After this applied XOR operator on both sets to find non-common columns. This also helps in finding target column \"Listing_Type\"."
      ]
    },
    {
      "metadata": {
        "id": "pfQoknUff3Xb",
        "colab_type": "code",
        "outputId": "08cdfc78-cd2d-4723-d435-d8e5aae8ec44",
        "colab": {
          "base_uri": "https://localhost:8080/",
          "height": 34
        }
      },
      "cell_type": "code",
      "source": [
        "set(list(df))^set(list(test_df))"
      ],
      "execution_count": 109,
      "outputs": [
        {
          "output_type": "execute_result",
          "data": {
            "text/plain": [
              "{'GUID', 'ID', 'Listing_Type'}"
            ]
          },
          "metadata": {
            "tags": []
          },
          "execution_count": 109
        }
      ]
    },
    {
      "metadata": {
        "id": "ZieJW4OfgKTi",
        "colab_type": "text"
      },
      "cell_type": "markdown",
      "source": [
        "# Drop unnecessary columns\n",
        " Dropping unnecessary columns, these columns won't be useful in analysis and prediction."
      ]
    },
    {
      "metadata": {
        "id": "KfjfehCjgIkL",
        "colab_type": "code",
        "colab": {}
      },
      "cell_type": "code",
      "source": [
        "df = df.drop(['Unnamed: 0', 'ID'], axis=1)\n",
        "test_df = test_df.drop(['Unnamed: 0', 'GUID'], axis=1)"
      ],
      "execution_count": 0,
      "outputs": []
    },
    {
      "metadata": {
        "id": "PLwcTTSbgnLV",
        "colab_type": "text"
      },
      "cell_type": "markdown",
      "source": [
        "# Listing_Type\n",
        "Our target variable. We have to predict Listing Type in test_df."
      ]
    },
    {
      "metadata": {
        "id": "99SqbiYlghxS",
        "colab_type": "code",
        "colab": {}
      },
      "cell_type": "code",
      "source": [
        "# Listing_Type\n",
        "df['Listing_Type'].value_counts()\n",
        "\n",
        "# dummy encoding\n",
        "df = pd.get_dummies(df,columns=['Listing_Type'])\n",
        "\n",
        "# drop 'Listing_Type_Bad' to avoid dummy variable trap\n",
        "df = df.drop(['Listing_Type_Bad'], axis=1)"
      ],
      "execution_count": 0,
      "outputs": []
    },
    {
      "metadata": {
        "id": "CMZ2xG3bg4Sr",
        "colab_type": "text"
      },
      "cell_type": "markdown",
      "source": [
        "# Handling NaN Values in the DataFrame\n",
        "Looks like we have lot of NaN values in the df. Let's explore there count."
      ]
    },
    {
      "metadata": {
        "id": "vAI3uZcYgVps",
        "colab_type": "code",
        "outputId": "0b99f7ae-ddc5-4d2f-c518-27524f35cc37",
        "colab": {
          "base_uri": "https://localhost:8080/",
          "height": 34
        }
      },
      "cell_type": "code",
      "source": [
        "null = pd.DataFrame(data= df.isnull().sum()/len(df)*100, \n",
        "                    columns=['Percentage of Values Missing'],\n",
        "                    index=df.columns\n",
        "                   ).reset_index()\n",
        "\n",
        "null['Percentage of Values Missing'].mean()"
      ],
      "execution_count": 112,
      "outputs": [
        {
          "output_type": "execute_result",
          "data": {
            "text/plain": [
              "21.350459099515856"
            ]
          },
          "metadata": {
            "tags": []
          },
          "execution_count": 112
        }
      ]
    },
    {
      "metadata": {
        "id": "C5fDfaVxhCi1",
        "colab_type": "code",
        "outputId": "738229a5-d39d-4a99-f73f-fb7065041e35",
        "colab": {
          "base_uri": "https://localhost:8080/",
          "height": 625
        }
      },
      "cell_type": "code",
      "source": [
        "plt.rcParams[\"figure.figsize\"] = (13,10)\n",
        "sns.barplot(x= 'Percentage of Values Missing', \n",
        "            y='index', \n",
        "            data= null.sort_values(by='Percentage of Values Missing', ascending=False),\n",
        "            color = '#ff004f')"
      ],
      "execution_count": 113,
      "outputs": [
        {
          "output_type": "execute_result",
          "data": {
            "text/plain": [
              "<matplotlib.axes._subplots.AxesSubplot at 0x7f7edf001400>"
            ]
          },
          "metadata": {
            "tags": []
          },
          "execution_count": 113
        },
        {
          "output_type": "display_data",
          "data": {
            "image/png": "[encoded data removed]",
            "text/plain": [
              "<matplotlib.figure.Figure at 0x7f7ee2f01f98>"
            ]
          },
          "metadata": {
            "tags": []
          }
        }
      ]
    },
    {
      "metadata": {
        "id": "ec6i6Wz-hG2e",
        "colab_type": "code",
        "outputId": "d060ce87-5beb-41fd-e856-a0be65268b89",
        "colab": {
          "base_uri": "https://localhost:8080/",
          "height": 347
        }
      },
      "cell_type": "code",
      "source": [
        "## Caution - Only 50% percentile missing values are taken.\n",
        "Notorious_null = null[null['Percentage of Values Missing'] > null['Percentage of Values Missing'].mean()]\n",
        "\n",
        "Notorious_null.sort_values(by='Percentage of Values Missing', ascending=False).head(10)"
      ],
      "execution_count": 114,
      "outputs": [
        {
          "output_type": "execute_result",
          "data": {
            "text/html": [
              "<div>\n",
              "<style scoped>\n",
              "    .dataframe tbody tr th:only-of-type {\n",
              "        vertical-align: middle;\n",
              "    }\n",
              "\n",
              "    .dataframe tbody tr th {\n",
              "        vertical-align: top;\n",
              "    }\n",
              "\n",
              "    .dataframe thead th {\n",
              "        text-align: right;\n",
              "    }\n",
              "</style>\n",
              "<table border=\"1\" class=\"dataframe\">\n",
              "  <thead>\n",
              "    <tr style=\"text-align: right;\">\n",
              "      <th></th>\n",
              "      <th>index</th>\n",
              "      <th>Percentage of Values Missing</th>\n",
              "    </tr>\n",
              "  </thead>\n",
              "  <tbody>\n",
              "    <tr>\n",
              "      <th>53</th>\n",
              "      <td>Has_Availability</td>\n",
              "      <td>98.113423</td>\n",
              "    </tr>\n",
              "    <tr>\n",
              "      <th>42</th>\n",
              "      <td>Square_Feet</td>\n",
              "      <td>97.589895</td>\n",
              "    </tr>\n",
              "    <tr>\n",
              "      <th>62</th>\n",
              "      <td>License</td>\n",
              "      <td>97.009500</td>\n",
              "    </tr>\n",
              "    <tr>\n",
              "      <th>17</th>\n",
              "      <td>Host_Acceptance_Rate</td>\n",
              "      <td>91.352994</td>\n",
              "    </tr>\n",
              "    <tr>\n",
              "      <th>45</th>\n",
              "      <td>Monthly_Price</td>\n",
              "      <td>84.203584</td>\n",
              "    </tr>\n",
              "    <tr>\n",
              "      <th>44</th>\n",
              "      <td>Weekly_Price</td>\n",
              "      <td>83.832483</td>\n",
              "    </tr>\n",
              "    <tr>\n",
              "      <th>24</th>\n",
              "      <td>Neighbourhood_Group_Cleansed</td>\n",
              "      <td>79.008169</td>\n",
              "    </tr>\n",
              "    <tr>\n",
              "      <th>63</th>\n",
              "      <td>Jurisdiction_Names</td>\n",
              "      <td>72.388736</td>\n",
              "    </tr>\n",
              "    <tr>\n",
              "      <th>46</th>\n",
              "      <td>Security_Deposit</td>\n",
              "      <td>66.063603</td>\n",
              "    </tr>\n",
              "    <tr>\n",
              "      <th>6</th>\n",
              "      <td>Notes</td>\n",
              "      <td>60.244997</td>\n",
              "    </tr>\n",
              "  </tbody>\n",
              "</table>\n",
              "</div>"
            ],
            "text/plain": [
              "                           index  Percentage of Values Missing\n",
              "53              Has_Availability                     98.113423\n",
              "42                   Square_Feet                     97.589895\n",
              "62                       License                     97.009500\n",
              "17          Host_Acceptance_Rate                     91.352994\n",
              "45                 Monthly_Price                     84.203584\n",
              "44                  Weekly_Price                     83.832483\n",
              "24  Neighbourhood_Group_Cleansed                     79.008169\n",
              "63            Jurisdiction_Names                     72.388736\n",
              "46              Security_Deposit                     66.063603\n",
              "6                          Notes                     60.244997"
            ]
          },
          "metadata": {
            "tags": []
          },
          "execution_count": 114
        }
      ]
    },
    {
      "metadata": {
        "id": "zx-2p5AGhrTE",
        "colab_type": "code",
        "outputId": "4e623ccf-62fd-455a-c130-b42b46abc361",
        "colab": {
          "base_uri": "https://localhost:8080/",
          "height": 625
        }
      },
      "cell_type": "code",
      "source": [
        "plt.rcParams[\"figure.figsize\"] = (13,10)\n",
        "sns.barplot(x= 'Percentage of Values Missing', \n",
        "            y='index', \n",
        "            data= Notorious_null,\n",
        "            color = '#ff004f')"
      ],
      "execution_count": 115,
      "outputs": [
        {
          "output_type": "execute_result",
          "data": {
            "text/plain": [
              "<matplotlib.axes._subplots.AxesSubplot at 0x7f7edef610b8>"
            ]
          },
          "metadata": {
            "tags": []
          },
          "execution_count": 115
        },
        {
          "output_type": "display_data",
          "data": {
            "image/png": "[encoded data removed]",
            "text/plain": [
              "<matplotlib.figure.Figure at 0x7f7edefce7b8>"
            ]
          },
          "metadata": {
            "tags": []
          }
        }
      ]
    },
    {
      "metadata": {
        "id": "XUAzucLRh__Z",
        "colab_type": "code",
        "outputId": "661f798a-64d0-4937-a743-21ed79a6916e",
        "colab": {
          "base_uri": "https://localhost:8080/",
          "height": 34
        }
      },
      "cell_type": "code",
      "source": [
        "len(null) - len(Notorious_null)"
      ],
      "execution_count": 116,
      "outputs": [
        {
          "output_type": "execute_result",
          "data": {
            "text/plain": [
              "45"
            ]
          },
          "metadata": {
            "tags": []
          },
          "execution_count": 116
        }
      ]
    },
    {
      "metadata": {
        "id": "oWjZyGx3jFFP",
        "colab_type": "text"
      },
      "cell_type": "markdown",
      "source": [
        "**Dropping all the NaN values above 90%**"
      ]
    },
    {
      "metadata": {
        "id": "Okf8Of1DiECA",
        "colab_type": "code",
        "colab": {}
      },
      "cell_type": "code",
      "source": [
        "null_drop = null[null['Percentage of Values Missing'] > 85]\n",
        "\n",
        "col_to_drop = []\n",
        "for cols in list(null_drop['index'].values):\n",
        "    col_to_drop.append(cols)"
      ],
      "execution_count": 0,
      "outputs": []
    },
    {
      "metadata": {
        "id": "XtiQzuK2i9qw",
        "colab_type": "code",
        "colab": {}
      },
      "cell_type": "code",
      "source": [
        "df.drop(col_to_drop, axis=1, inplace=True)"
      ],
      "execution_count": 0,
      "outputs": []
    },
    {
      "metadata": {
        "id": "VextlTIyjHC_",
        "colab_type": "text"
      },
      "cell_type": "markdown",
      "source": [
        "**Handling NaN values of test_df**"
      ]
    },
    {
      "metadata": {
        "id": "CaZAf5G2jASf",
        "colab_type": "code",
        "outputId": "0578b522-b127-4895-c316-4845466709f1",
        "colab": {
          "base_uri": "https://localhost:8080/",
          "height": 34
        }
      },
      "cell_type": "code",
      "source": [
        "test_null = pd.DataFrame(data= test_df.isnull().sum()/len(test_df)*100, \n",
        "                    columns=['Percentage of Values Missing'],\n",
        "                    index=test_df.columns\n",
        "                   ).reset_index()\n",
        "\n",
        "test_null['Percentage of Values Missing'].mean()"
      ],
      "execution_count": 119,
      "outputs": [
        {
          "output_type": "execute_result",
          "data": {
            "text/plain": [
              "21.534313774167607"
            ]
          },
          "metadata": {
            "tags": []
          },
          "execution_count": 119
        }
      ]
    },
    {
      "metadata": {
        "id": "zkj09ChKjMsE",
        "colab_type": "code",
        "outputId": "c6f2ba14-4719-4c36-8ef0-ccdd3d230074",
        "colab": {
          "base_uri": "https://localhost:8080/",
          "height": 347
        }
      },
      "cell_type": "code",
      "source": [
        "## Caution - Only 50% percentile missing values are taken.\n",
        "Notorious_test_null = test_null[test_null['Percentage of Values Missing'] > test_null['Percentage of Values Missing'].mean()]\n",
        "\n",
        "Notorious_test_null.sort_values(by='Percentage of Values Missing', ascending=False).head(10)"
      ],
      "execution_count": 120,
      "outputs": [
        {
          "output_type": "execute_result",
          "data": {
            "text/html": [
              "<div>\n",
              "<style scoped>\n",
              "    .dataframe tbody tr th:only-of-type {\n",
              "        vertical-align: middle;\n",
              "    }\n",
              "\n",
              "    .dataframe tbody tr th {\n",
              "        vertical-align: top;\n",
              "    }\n",
              "\n",
              "    .dataframe thead th {\n",
              "        text-align: right;\n",
              "    }\n",
              "</style>\n",
              "<table border=\"1\" class=\"dataframe\">\n",
              "  <thead>\n",
              "    <tr style=\"text-align: right;\">\n",
              "      <th></th>\n",
              "      <th>index</th>\n",
              "      <th>Percentage of Values Missing</th>\n",
              "    </tr>\n",
              "  </thead>\n",
              "  <tbody>\n",
              "    <tr>\n",
              "      <th>53</th>\n",
              "      <td>Has_Availability</td>\n",
              "      <td>98.008997</td>\n",
              "    </tr>\n",
              "    <tr>\n",
              "      <th>42</th>\n",
              "      <td>Square_Feet</td>\n",
              "      <td>97.548236</td>\n",
              "    </tr>\n",
              "    <tr>\n",
              "      <th>62</th>\n",
              "      <td>License</td>\n",
              "      <td>97.027894</td>\n",
              "    </tr>\n",
              "    <tr>\n",
              "      <th>17</th>\n",
              "      <td>Host_Acceptance_Rate</td>\n",
              "      <td>91.265404</td>\n",
              "    </tr>\n",
              "    <tr>\n",
              "      <th>45</th>\n",
              "      <td>Monthly_Price</td>\n",
              "      <td>84.334131</td>\n",
              "    </tr>\n",
              "    <tr>\n",
              "      <th>44</th>\n",
              "      <td>Weekly_Price</td>\n",
              "      <td>83.772082</td>\n",
              "    </tr>\n",
              "    <tr>\n",
              "      <th>24</th>\n",
              "      <td>Neighbourhood_Group_Cleansed</td>\n",
              "      <td>79.176390</td>\n",
              "    </tr>\n",
              "    <tr>\n",
              "      <th>63</th>\n",
              "      <td>Jurisdiction_Names</td>\n",
              "      <td>72.245117</td>\n",
              "    </tr>\n",
              "    <tr>\n",
              "      <th>46</th>\n",
              "      <td>Security_Deposit</td>\n",
              "      <td>65.987111</td>\n",
              "    </tr>\n",
              "    <tr>\n",
              "      <th>6</th>\n",
              "      <td>Notes</td>\n",
              "      <td>60.467911</td>\n",
              "    </tr>\n",
              "  </tbody>\n",
              "</table>\n",
              "</div>"
            ],
            "text/plain": [
              "                           index  Percentage of Values Missing\n",
              "53              Has_Availability                     98.008997\n",
              "42                   Square_Feet                     97.548236\n",
              "62                       License                     97.027894\n",
              "17          Host_Acceptance_Rate                     91.265404\n",
              "45                 Monthly_Price                     84.334131\n",
              "44                  Weekly_Price                     83.772082\n",
              "24  Neighbourhood_Group_Cleansed                     79.176390\n",
              "63            Jurisdiction_Names                     72.245117\n",
              "46              Security_Deposit                     65.987111\n",
              "6                          Notes                     60.467911"
            ]
          },
          "metadata": {
            "tags": []
          },
          "execution_count": 120
        }
      ]
    },
    {
      "metadata": {
        "id": "3eZS2RV0jQcU",
        "colab_type": "code",
        "outputId": "04af259f-3e19-4030-d65e-7f87321c78f5",
        "colab": {
          "base_uri": "https://localhost:8080/",
          "height": 625
        }
      },
      "cell_type": "code",
      "source": [
        "plt.rcParams[\"figure.figsize\"] = (13,10)\n",
        "sns.barplot(x= 'Percentage of Values Missing', \n",
        "            y='index', \n",
        "            data= Notorious_test_null,\n",
        "            color = '#ff004f')"
      ],
      "execution_count": 121,
      "outputs": [
        {
          "output_type": "execute_result",
          "data": {
            "text/plain": [
              "<matplotlib.axes._subplots.AxesSubplot at 0x7f7edece6358>"
            ]
          },
          "metadata": {
            "tags": []
          },
          "execution_count": 121
        },
        {
          "output_type": "display_data",
          "data": {
            "image/png": "[encoded data removed]",
            "text/plain": [
              "<matplotlib.figure.Figure at 0x7f7eded7b278>"
            ]
          },
          "metadata": {
            "tags": []
          }
        }
      ]
    },
    {
      "metadata": {
        "id": "nv8uXZONjX17",
        "colab_type": "code",
        "outputId": "41d9545d-bfd5-4f1e-88ea-12edf4b7e524",
        "colab": {
          "base_uri": "https://localhost:8080/",
          "height": 34
        }
      },
      "cell_type": "code",
      "source": [
        "len(test_null) - len(Notorious_test_null)"
      ],
      "execution_count": 122,
      "outputs": [
        {
          "output_type": "execute_result",
          "data": {
            "text/plain": [
              "44"
            ]
          },
          "metadata": {
            "tags": []
          },
          "execution_count": 122
        }
      ]
    },
    {
      "metadata": {
        "id": "zhK16c4CjbYA",
        "colab_type": "code",
        "colab": {}
      },
      "cell_type": "code",
      "source": [
        "test_null_drop = test_null[test_null['Percentage of Values Missing'] > 85]\n",
        "\n",
        "test_col_to_drop = []\n",
        "for test_cols in list(test_null_drop['index'].values):\n",
        "    test_col_to_drop.append(test_cols)"
      ],
      "execution_count": 0,
      "outputs": []
    },
    {
      "metadata": {
        "id": "YVPqJmNrjeqd",
        "colab_type": "code",
        "colab": {}
      },
      "cell_type": "code",
      "source": [
        "test_df.drop(test_col_to_drop, axis=1, inplace=True)"
      ],
      "execution_count": 0,
      "outputs": []
    },
    {
      "metadata": {
        "id": "e5N6yWwUjo-O",
        "colab_type": "text"
      },
      "cell_type": "markdown",
      "source": [
        "# Co-relation between Listing_Type_Good and other columns"
      ]
    },
    {
      "metadata": {
        "id": "j4uZz8k-jhDm",
        "colab_type": "code",
        "outputId": "e1c8c6ab-37af-40e4-b900-cb23b94254a5",
        "colab": {
          "base_uri": "https://localhost:8080/",
          "height": 390
        }
      },
      "cell_type": "code",
      "source": [
        "corr_mx = df.corr()\n",
        "corr_mx[\"Listing_Type_Good\"].sort_values(ascending=False)"
      ],
      "execution_count": 125,
      "outputs": [
        {
          "output_type": "execute_result",
          "data": {
            "text/plain": [
              "Listing_Type_Good                 1.000000\n",
              "Number_of_Reviews                 0.143141\n",
              "Host_Response_Rate                0.134765\n",
              "Availability_365                  0.056855\n",
              "Extra_People                      0.045003\n",
              "Rating                            0.044050\n",
              "Host_Total_Listings_Count         0.041110\n",
              "Calculated_host_listings_count    0.039085\n",
              "Reviews_per_Month                 0.023711\n",
              "Beds                              0.020382\n",
              "Bedrooms                          0.005382\n",
              "Minimum_Nights                    0.001573\n",
              "Bathrooms                        -0.000235\n",
              "Security_Deposit                 -0.001178\n",
              "Price                            -0.003585\n",
              "Latitude                         -0.007398\n",
              "Availability_90                  -0.011829\n",
              "Longitude                        -0.013832\n",
              "Availability_30                  -0.024397\n",
              "Availability_60                  -0.025808\n",
              "Name: Listing_Type_Good, dtype: float64"
            ]
          },
          "metadata": {
            "tags": []
          },
          "execution_count": 125
        }
      ]
    },
    {
      "metadata": {
        "id": "EL4BDE6sKu1f",
        "colab_type": "text"
      },
      "cell_type": "markdown",
      "source": [
        "# Now we will be working on few columns to fill NaN values"
      ]
    },
    {
      "metadata": {
        "id": "rWgiXfDqLKsK",
        "colab_type": "text"
      },
      "cell_type": "markdown",
      "source": [
        "## Rating"
      ]
    },
    {
      "metadata": {
        "id": "kSd2OYWPLXLR",
        "colab_type": "code",
        "outputId": "80527962-679c-43ae-a4e7-0171fd465ac5",
        "colab": {
          "base_uri": "https://localhost:8080/",
          "height": 70
        }
      },
      "cell_type": "code",
      "source": [
        "print(df['Rating'].isna().sum())\n",
        "print(\"-\"*25)\n",
        "print(test_df['Rating'].isna().sum())"
      ],
      "execution_count": 126,
      "outputs": [
        {
          "output_type": "stream",
          "text": [
            "89674\n",
            "-------------------------\n",
            "26215\n"
          ],
          "name": "stdout"
        }
      ]
    },
    {
      "metadata": {
        "id": "gSvxU3u_Lmv0",
        "colab_type": "code",
        "outputId": "18add0e7-72c8-4a54-ede8-cdcc28241a7d",
        "colab": {
          "base_uri": "https://localhost:8080/",
          "height": 228
        }
      },
      "cell_type": "code",
      "source": [
        "# for df and test_df, since there is a missing \"Rating\" values\n",
        "df[\"Rating\"].fillna(df[\"Rating\"].median(), inplace=True)\n",
        "test_df[\"Rating\"].fillna(test_df[\"Rating\"].median(), inplace=True)\n",
        "\n",
        "# convert from float to int\n",
        "df['Rating'] = df['Rating'].astype(int)\n",
        "test_df['Rating'] = test_df['Rating'].astype(int)\n",
        "\n",
        "df['Rating'].plot(kind='hist', figsize=(15,3),bins=100, xlim=(0,100000))"
      ],
      "execution_count": 127,
      "outputs": [
        {
          "output_type": "execute_result",
          "data": {
            "text/plain": [
              "<matplotlib.axes._subplots.AxesSubplot at 0x7f7edecaf438>"
            ]
          },
          "metadata": {
            "tags": []
          },
          "execution_count": 127
        },
        {
          "output_type": "display_data",
          "data": {
            "image/png": "[encoded data removed]",
            "text/plain": [
              "<matplotlib.figure.Figure at 0x7f7edec5d400>"
            ]
          },
          "metadata": {
            "tags": []
          }
        }
      ]
    },
    {
      "metadata": {
        "id": "G1U_ET9-MD5x",
        "colab_type": "code",
        "outputId": "150367dd-a1e7-4881-93c8-aab0e48729fc",
        "colab": {
          "base_uri": "https://localhost:8080/",
          "height": 123
        }
      },
      "cell_type": "code",
      "source": [
        "# Divide 'Rating' into groups\n",
        "r = pd.qcut(df['Rating'], 4)\n",
        "print (df.groupby(r).Listing_Type_Good.mean())"
      ],
      "execution_count": 128,
      "outputs": [
        {
          "output_type": "stream",
          "text": [
            "Rating\n",
            "(14630.999, 67283.0]    0.971683\n",
            "(67283.0, 69475.0]      0.792185\n",
            "(69475.0, 71661.0]      0.985173\n",
            "(71661.0, 73151.0]      0.975983\n",
            "Name: Listing_Type_Good, dtype: float64\n"
          ],
          "name": "stdout"
        }
      ]
    },
    {
      "metadata": {
        "id": "d4R_HY90MHd8",
        "colab_type": "code",
        "colab": {}
      },
      "cell_type": "code",
      "source": [
        "# Assign number to Rating limits\n",
        "df.Rating.loc[ (df.Rating <= 67282) ]= 0\n",
        "df.Rating.loc[ (df.Rating > 67282) & (df.Rating <=  69475) ]= 1\n",
        "df.Rating.loc[ (df.Rating > 69475) & (df.Rating <= 71661) ]= 2\n",
        "df.Rating.loc[ (df.Rating > 71661) ]= 3\n",
        "\n",
        "\n",
        "test_df.Rating.loc[ (test_df.Rating <= 67282) ]= 0\n",
        "test_df.Rating.loc[ (test_df.Rating > 67282) & (test_df.Rating <=  69475) ]= 1\n",
        "test_df.Rating.loc[ (test_df.Rating > 69475) & (test_df.Rating <= 71661) ]= 2\n",
        "test_df.Rating.loc[ (test_df.Rating > 71661) ]= 3"
      ],
      "execution_count": 0,
      "outputs": []
    },
    {
      "metadata": {
        "id": "Zrp-u1KsNbiK",
        "colab_type": "text"
      },
      "cell_type": "markdown",
      "source": [
        "## Number_of_Reviews\n",
        "Now we will be working on Number of Reviews"
      ]
    },
    {
      "metadata": {
        "id": "B6WSBo3aNpVR",
        "colab_type": "code",
        "outputId": "6c044512-f1b6-4ab5-ff2b-dff06141be3f",
        "colab": {
          "base_uri": "https://localhost:8080/",
          "height": 70
        }
      },
      "cell_type": "code",
      "source": [
        "print(df[\"Number_of_Reviews\"].isna().sum())\n",
        "print(\"-----------------\")\n",
        "print(test_df[\"Number_of_Reviews\"].isna().sum())"
      ],
      "execution_count": 130,
      "outputs": [
        {
          "output_type": "stream",
          "text": [
            "959\n",
            "-----------------\n",
            "1\n"
          ],
          "name": "stdout"
        }
      ]
    },
    {
      "metadata": {
        "id": "wvpc6wETOw3K",
        "colab_type": "text"
      },
      "cell_type": "markdown",
      "source": [
        "dropping rows which has NaN values because dataset is large and missing values are very less"
      ]
    },
    {
      "metadata": {
        "id": "ugpdYyuUN7c8",
        "colab_type": "code",
        "colab": {}
      },
      "cell_type": "code",
      "source": [
        "df = df.dropna(subset=['Number_of_Reviews'])\n",
        "test_df = test_df.dropna(subset=['Number_of_Reviews'])"
      ],
      "execution_count": 0,
      "outputs": []
    },
    {
      "metadata": {
        "id": "UcMMDGnNN7Ed",
        "colab_type": "code",
        "outputId": "7c7a2b53-fe12-470e-a515-c6e05cc9c26f",
        "colab": {
          "base_uri": "https://localhost:8080/",
          "height": 228
        }
      },
      "cell_type": "code",
      "source": [
        "# convert from float to int\n",
        "df['Number_of_Reviews'] = df['Number_of_Reviews'].astype(int)\n",
        "test_df['Number_of_Reviews'] = test_df['Number_of_Reviews'].astype(int)\n",
        "\n",
        "df['Number_of_Reviews'].plot(kind='hist', figsize=(15,3),bins=100, xlim=(0,600))"
      ],
      "execution_count": 132,
      "outputs": [
        {
          "output_type": "execute_result",
          "data": {
            "text/plain": [
              "<matplotlib.axes._subplots.AxesSubplot at 0x7f7edeba2160>"
            ]
          },
          "metadata": {
            "tags": []
          },
          "execution_count": 132
        },
        {
          "output_type": "display_data",
          "data": {
            "image/png": "[encoded data removed]",
            "text/plain": [
              "<matplotlib.figure.Figure at 0x7f7f10ec6908>"
            ]
          },
          "metadata": {
            "tags": []
          }
        }
      ]
    },
    {
      "metadata": {
        "id": "UFfAXukhN7BJ",
        "colab_type": "code",
        "outputId": "7e83b162-bb2e-4c01-abfe-2420ef025121",
        "colab": {
          "base_uri": "https://localhost:8080/",
          "height": 87
        }
      },
      "cell_type": "code",
      "source": [
        "# Divide 'Rating' into groups\n",
        "r = pd.qcut(df['Number_of_Reviews'], 2)\n",
        "print (df.groupby(r).Listing_Type_Good.mean())"
      ],
      "execution_count": 133,
      "outputs": [
        {
          "output_type": "stream",
          "text": [
            "Number_of_Reviews\n",
            "(-0.001, 4.0]    0.836709\n",
            "(4.0, 574.0]     0.982931\n",
            "Name: Listing_Type_Good, dtype: float64\n"
          ],
          "name": "stdout"
        }
      ]
    },
    {
      "metadata": {
        "id": "ytscKp3oP_3P",
        "colab_type": "code",
        "colab": {}
      },
      "cell_type": "code",
      "source": [
        "# Assign number to Rating limits\n",
        "df.Number_of_Reviews.loc[ (df.Number_of_Reviews <= 4) ]= 0\n",
        "df.Number_of_Reviews.loc[ (df.Number_of_Reviews > 4) ]= 1\n",
        "\n",
        "\n",
        "test_df.Number_of_Reviews.loc[ (test_df.Number_of_Reviews <= 4) ]= 0\n",
        "test_df.Number_of_Reviews.loc[ (test_df.Number_of_Reviews > 4) ]= 1"
      ],
      "execution_count": 0,
      "outputs": []
    },
    {
      "metadata": {
        "id": "nGletsAGniSg",
        "colab_type": "text"
      },
      "cell_type": "markdown",
      "source": [
        "## Host_Response_Rate\n",
        "Filling NaN values in Host_Response_Rate Column"
      ]
    },
    {
      "metadata": {
        "id": "LxsjhyG9LDPU",
        "colab_type": "code",
        "outputId": "35eb3084-11d3-4bde-b97e-1afe9f61b1a9",
        "colab": {
          "base_uri": "https://localhost:8080/",
          "height": 70
        }
      },
      "cell_type": "code",
      "source": [
        "print(df[\"Host_Response_Rate\"].isna().sum())\n",
        "print(\"-\"*25)\n",
        "print(test_df[\"Host_Response_Rate\"].isna().sum())"
      ],
      "execution_count": 135,
      "outputs": [
        {
          "output_type": "stream",
          "text": [
            "125044\n",
            "-------------------------\n",
            "37288\n"
          ],
          "name": "stdout"
        }
      ]
    },
    {
      "metadata": {
        "id": "NqLfMSnpRe0G",
        "colab_type": "text"
      },
      "cell_type": "markdown",
      "source": [
        "Filling missing column using **Interpolation**"
      ]
    },
    {
      "metadata": {
        "id": "VcHbpk0dnqgL",
        "colab_type": "code",
        "colab": {}
      },
      "cell_type": "code",
      "source": [
        "df[\"Host_Response_Rate\"].interpolate(method='linear', axis=0, inplace = True)\n",
        "\n",
        "test_df[\"Host_Response_Rate\"].interpolate(method='linear', axis=0, inplace = True)"
      ],
      "execution_count": 0,
      "outputs": []
    },
    {
      "metadata": {
        "id": "0irAz5dCR8G8",
        "colab_type": "code",
        "outputId": "69330148-02eb-480d-a313-e53e9a7c4ed6",
        "colab": {
          "base_uri": "https://localhost:8080/",
          "height": 70
        }
      },
      "cell_type": "code",
      "source": [
        "print(df[\"Host_Response_Rate\"].isna().sum())\n",
        "print(\"-\"*25)\n",
        "print(test_df[\"Host_Response_Rate\"].isna().sum())"
      ],
      "execution_count": 137,
      "outputs": [
        {
          "output_type": "stream",
          "text": [
            "0\n",
            "-------------------------\n",
            "1\n"
          ],
          "name": "stdout"
        }
      ]
    },
    {
      "metadata": {
        "id": "6vrx8hPTSOAg",
        "colab_type": "text"
      },
      "cell_type": "markdown",
      "source": [
        "We are still left with 1 row with NaN value in test_df. Therefore, we have drop it."
      ]
    },
    {
      "metadata": {
        "id": "Jlf4EY_xSMFF",
        "colab_type": "code",
        "colab": {}
      },
      "cell_type": "code",
      "source": [
        "test_df = test_df.dropna(subset=['Host_Response_Rate'])"
      ],
      "execution_count": 0,
      "outputs": []
    },
    {
      "metadata": {
        "id": "jWJf3RCsrPAf",
        "colab_type": "code",
        "outputId": "c667d6e9-919e-42f5-895b-9b59d8b4f7f9",
        "colab": {
          "base_uri": "https://localhost:8080/",
          "height": 228
        }
      },
      "cell_type": "code",
      "source": [
        "# convert from float to int\n",
        "df['Host_Response_Rate'] = df['Host_Response_Rate'].astype(int)\n",
        "test_df['Host_Response_Rate'] = test_df['Host_Response_Rate'].astype(int)\n",
        "\n",
        "df['Host_Response_Rate'].plot(kind='hist', figsize=(15,3),bins=100, xlim=(0,100))"
      ],
      "execution_count": 139,
      "outputs": [
        {
          "output_type": "execute_result",
          "data": {
            "text/plain": [
              "<matplotlib.axes._subplots.AxesSubplot at 0x7f7f11e047f0>"
            ]
          },
          "metadata": {
            "tags": []
          },
          "execution_count": 139
        },
        {
          "output_type": "display_data",
          "data": {
            "image/png": "[encoded data removed]",
            "text/plain": [
              "<matplotlib.figure.Figure at 0x7f7f11f17780>"
            ]
          },
          "metadata": {
            "tags": []
          }
        }
      ]
    },
    {
      "metadata": {
        "id": "4_uuiOtGT1GP",
        "colab_type": "code",
        "outputId": "b641ff48-a017-4c30-c7fc-06041556540e",
        "colab": {
          "base_uri": "https://localhost:8080/",
          "height": 507
        }
      },
      "cell_type": "code",
      "source": [
        "# peaks for Listing_Type_Good or not by their Host_Response_Rate\n",
        "facet = sns.FacetGrid(df, hue=\"Listing_Type_Good\",aspect=4)\n",
        "facet.map(sns.kdeplot,'Host_Response_Rate',shade= True)\n",
        "facet.set(xlim=(0, df['Host_Response_Rate'].max()))\n",
        "facet.add_legend()\n",
        "\n",
        "# average Listing_Type_Good by Host_Response_Rate\n",
        "fig, axis1 = plt.subplots(1,1,figsize=(18,4))\n",
        "average_Host_Response_Rate = df[[\"Host_Response_Rate\", \"Listing_Type_Good\"]].groupby(['Host_Response_Rate'],as_index=False).mean()\n",
        "sns.barplot(x='Host_Response_Rate', y='Listing_Type_Good', data=average_Host_Response_Rate)"
      ],
      "execution_count": 140,
      "outputs": [
        {
          "output_type": "execute_result",
          "data": {
            "text/plain": [
              "<matplotlib.axes._subplots.AxesSubplot at 0x7f7ed8f6f2b0>"
            ]
          },
          "metadata": {
            "tags": []
          },
          "execution_count": 140
        },
        {
          "output_type": "display_data",
          "data": {
            "image/png": "[encoded data removed]",
            "text/plain": [
              "<matplotlib.figure.Figure at 0x7f7f11cffb70>"
            ]
          },
          "metadata": {
            "tags": []
          }
        },
        {
          "output_type": "display_data",
          "data": {
            "image/png": "[encoded data removed]",
            "text/plain": [
              "<matplotlib.figure.Figure at 0x7f7f149bf630>"
            ]
          },
          "metadata": {
            "tags": []
          }
        }
      ]
    },
    {
      "metadata": {
        "id": "8QxqcEXYSrAl",
        "colab_type": "code",
        "outputId": "69a6113a-d57c-4262-df56-08be14c8caa6",
        "colab": {
          "base_uri": "https://localhost:8080/",
          "height": 123
        }
      },
      "cell_type": "code",
      "source": [
        "# Divide 'Host_Response_Rate' into groups\n",
        "a = pd.cut(df['Host_Response_Rate'], 4)\n",
        "print (df.groupby(a).Listing_Type_Good.mean())\n"
      ],
      "execution_count": 141,
      "outputs": [
        {
          "output_type": "stream",
          "text": [
            "Host_Response_Rate\n",
            "(-0.1, 25.0]     0.777557\n",
            "(25.0, 50.0]     0.855254\n",
            "(50.0, 75.0]     0.883407\n",
            "(75.0, 100.0]    0.913735\n",
            "Name: Listing_Type_Good, dtype: float64\n"
          ],
          "name": "stdout"
        }
      ]
    },
    {
      "metadata": {
        "id": "ZipWd7brSqwM",
        "colab_type": "code",
        "colab": {}
      },
      "cell_type": "code",
      "source": [
        "# Assign number to Host_Response_Rate limits\n",
        "df.Host_Response_Rate.loc[ (df.Host_Response_Rate <= 25) ]= 0\n",
        "df.Host_Response_Rate.loc[ (df.Host_Response_Rate > 25) & (df.Host_Response_Rate <=  50) ]= 1\n",
        "df.Host_Response_Rate.loc[ (df.Host_Response_Rate > 50) & (df.Host_Response_Rate <=  75) ]= 2\n",
        "df.Host_Response_Rate.loc[ (df.Host_Response_Rate > 75) ]= 3\n",
        "\n",
        "\n",
        "test_df.Host_Response_Rate.loc[ (test_df.Host_Response_Rate <= 25) ]= 0\n",
        "test_df.Host_Response_Rate.loc[ (test_df.Host_Response_Rate > 25) & (test_df.Host_Response_Rate <=  50) ]= 1\n",
        "test_df.Host_Response_Rate.loc[ (test_df.Host_Response_Rate > 50) & (test_df.Host_Response_Rate <=  75) ]= 2\n",
        "test_df.Host_Response_Rate.loc[ (test_df.Host_Response_Rate > 75) ]= 3"
      ],
      "execution_count": 0,
      "outputs": []
    },
    {
      "metadata": {
        "id": "Z0YZYkNqhKjl",
        "colab_type": "text"
      },
      "cell_type": "markdown",
      "source": [
        "## Extra_People\n",
        "Filling NaN values in Extra_People with 0 because it has most number of occurence."
      ]
    },
    {
      "metadata": {
        "id": "4ei6RvphiLh4",
        "colab_type": "code",
        "outputId": "098a4106-eb9e-4a01-ded3-602d51cfdb7d",
        "colab": {
          "base_uri": "https://localhost:8080/",
          "height": 70
        }
      },
      "cell_type": "code",
      "source": [
        "print(df['Extra_People'].isna().sum())\n",
        "print(\"-\"*25)\n",
        "print(test_df['Extra_People'].isna().sum())"
      ],
      "execution_count": 143,
      "outputs": [
        {
          "output_type": "stream",
          "text": [
            "60129\n",
            "-------------------------\n",
            "17863\n"
          ],
          "name": "stdout"
        }
      ]
    },
    {
      "metadata": {
        "id": "WSsH_idNbBwZ",
        "colab_type": "code",
        "colab": {}
      },
      "cell_type": "code",
      "source": [
        "df['Extra_People'].fillna(0, inplace = True)\n",
        "test_df['Extra_People'].fillna(0, inplace = True)"
      ],
      "execution_count": 0,
      "outputs": []
    },
    {
      "metadata": {
        "id": "lRPxiag_bt-w",
        "colab_type": "code",
        "outputId": "f2ca0826-ad5c-461c-d8dd-8649b5418185",
        "colab": {
          "base_uri": "https://localhost:8080/",
          "height": 228
        }
      },
      "cell_type": "code",
      "source": [
        "# convert from float to int\n",
        "df['Extra_People'] = df['Extra_People'].astype(int)\n",
        "test_df['Extra_People'] = test_df['Extra_People'].astype(int)\n",
        "\n",
        "df['Extra_People'].plot(kind='hist', figsize=(15,3),bins=100, xlim=(0,500))"
      ],
      "execution_count": 145,
      "outputs": [
        {
          "output_type": "execute_result",
          "data": {
            "text/plain": [
              "<matplotlib.axes._subplots.AxesSubplot at 0x7f7f11922908>"
            ]
          },
          "metadata": {
            "tags": []
          },
          "execution_count": 145
        },
        {
          "output_type": "display_data",
          "data": {
            "image/png": "[encoded data removed]",
            "text/plain": [
              "<matplotlib.figure.Figure at 0x7f7f11946080>"
            ]
          },
          "metadata": {
            "tags": []
          }
        }
      ]
    },
    {
      "metadata": {
        "id": "3G1lJ_O4d4sO",
        "colab_type": "code",
        "outputId": "f77389c6-8541-4192-e7f9-07dc156fa954",
        "colab": {
          "base_uri": "https://localhost:8080/",
          "height": 141
        }
      },
      "cell_type": "code",
      "source": [
        "# Divide 'Extra_People' into groups\n",
        "a = pd.cut(df['Extra_People'], 5)\n",
        "print (df.groupby(a).Listing_Type_Good.mean())"
      ],
      "execution_count": 146,
      "outputs": [
        {
          "output_type": "stream",
          "text": [
            "Extra_People\n",
            "(-0.999, 199.8]    0.908225\n",
            "(199.8, 399.6]     0.942237\n",
            "(399.6, 599.4]     0.911111\n",
            "(599.4, 799.2]     0.971429\n",
            "(799.2, 999.0]     1.000000\n",
            "Name: Listing_Type_Good, dtype: float64\n"
          ],
          "name": "stdout"
        }
      ]
    },
    {
      "metadata": {
        "id": "W5duQNrReS54",
        "colab_type": "code",
        "colab": {}
      },
      "cell_type": "code",
      "source": [
        "# Assign number to Extra_People limits\n",
        "df.Extra_People.loc[ (df.Extra_People <= 199.8) ]= 0\n",
        "df.Extra_People.loc[ (df.Extra_People > 198) & (df.Extra_People <=  399.6) ]= 1\n",
        "df.Extra_People.loc[ (df.Extra_People > 399.6) & (df.Extra_People <=  599.4) ]= 2\n",
        "df.Extra_People.loc[ (df.Extra_People > 599.4) & (df.Extra_People <=  799.2) ]= 3\n",
        "df.Extra_People.loc[ (df.Extra_People > 799.2) ]= 4\n",
        "\n",
        "test_df.Extra_People.loc[ (test_df.Extra_People <= 199.8) ]= 0\n",
        "test_df.Extra_People.loc[ (test_df.Extra_People > 199.8) & (test_df.Extra_People <=  399.6) ]= 1\n",
        "test_df.Extra_People.loc[ (test_df.Extra_People > 399.6) & (test_df.Extra_People <=  599.4) ]= 2\n",
        "test_df.Extra_People.loc[ (test_df.Extra_People > 599.4) & (test_df.Extra_People <=  799.2) ]= 3\n",
        "test_df.Extra_People.loc[ (test_df.Extra_People > 799.2) ]= 4"
      ],
      "execution_count": 0,
      "outputs": []
    },
    {
      "metadata": {
        "id": "WF6fCMX0lzXK",
        "colab_type": "text"
      },
      "cell_type": "markdown",
      "source": [
        "## Correlation Matrix"
      ]
    },
    {
      "metadata": {
        "id": "NFxMFkkOkvdX",
        "colab_type": "code",
        "outputId": "073c8fde-62d0-474d-b302-ef2eb5bb6394",
        "colab": {
          "base_uri": "https://localhost:8080/",
          "height": 664
        }
      },
      "cell_type": "code",
      "source": [
        "#correlation matrix\n",
        "corrmat = df.corr()\n",
        "f, ax = plt.subplots(figsize=(12, 9))\n",
        "# vmax are Values to anchor the colormap\n",
        "sns.heatmap(corrmat, vmax=.8, square=True);"
      ],
      "execution_count": 148,
      "outputs": [
        {
          "output_type": "display_data",
          "data": {
            "image/png": "[encoded data removed]",
            "text/plain": [
              "<matplotlib.figure.Figure at 0x7f7edec4d588>"
            ]
          },
          "metadata": {
            "tags": []
          }
        }
      ]
    },
    {
      "metadata": {
        "id": "yNym-3HUolAz",
        "colab_type": "text"
      },
      "cell_type": "markdown",
      "source": [
        "## Calculated_host_listings_count and Host_Total_Listings_Count || Guest_Included"
      ]
    },
    {
      "metadata": {
        "id": "aPIGHZrynRnt",
        "colab_type": "text"
      },
      "cell_type": "markdown",
      "source": [
        "As we can see from above collinearity matrix column  'Host_Total_Listings_Count' and 'Calculated_host_listings_count' are collinear. Therefore, we should drop one of them. They give almost the same information so multicollinearity really occurs\n",
        "We are dropping 'Calculated_host_listings_count' beacuse it has more missing values than ther other one.\n",
        "We are also dropping Guest_Included column because it consists total number of host and extra people."
      ]
    },
    {
      "metadata": {
        "id": "eBqEPPIYlb_W",
        "colab_type": "code",
        "outputId": "a874d96d-f8d0-47aa-c1a8-ebeae54ef18a",
        "colab": {
          "base_uri": "https://localhost:8080/",
          "height": 105
        }
      },
      "cell_type": "code",
      "source": [
        "print(df['Host_Total_Listings_Count'].isna().sum())\n",
        "print(test_df['Host_Total_Listings_Count'].isna().sum())\n",
        "print(\"-\"*25)\n",
        "print(df['Calculated_host_listings_count'].isna().sum())\n",
        "print(test_df['Calculated_host_listings_count'].isna().sum())"
      ],
      "execution_count": 149,
      "outputs": [
        {
          "output_type": "stream",
          "text": [
            "364\n",
            "93\n",
            "-------------------------\n",
            "609\n",
            "167\n"
          ],
          "name": "stdout"
        }
      ]
    },
    {
      "metadata": {
        "id": "HbQNgPtYo0bo",
        "colab_type": "code",
        "colab": {}
      },
      "cell_type": "code",
      "source": [
        "#Droping\n",
        "df = df.drop(['Calculated_host_listings_count', 'Guests_Included'], axis=1)\n",
        "test_df = test_df.drop(['Calculated_host_listings_count', 'Guests_Included'], axis=1)"
      ],
      "execution_count": 0,
      "outputs": []
    },
    {
      "metadata": {
        "id": "WYwXzp6Up8Yt",
        "colab_type": "code",
        "outputId": "a12c15e5-9743-4775-e782-e445297645a5",
        "colab": {
          "base_uri": "https://localhost:8080/",
          "height": 228
        }
      },
      "cell_type": "code",
      "source": [
        "# for df and test_df, since there is a missing \"Host_Total_Listings_Count\" values\n",
        "df[\"Host_Total_Listings_Count\"].fillna(df[\"Host_Total_Listings_Count\"].median(), inplace=True)\n",
        "test_df[\"Host_Total_Listings_Count\"].fillna(test_df[\"Host_Total_Listings_Count\"].median(), inplace=True)\n",
        "\n",
        "# convert from float to int\n",
        "df['Host_Total_Listings_Count'] = df['Host_Total_Listings_Count'].astype(int)\n",
        "test_df['Host_Total_Listings_Count'] = test_df['Host_Total_Listings_Count'].astype(int)\n",
        "\n",
        "df['Host_Total_Listings_Count'].plot(kind='hist', figsize=(15,3),bins=100, xlim=(0,1200))"
      ],
      "execution_count": 151,
      "outputs": [
        {
          "output_type": "execute_result",
          "data": {
            "text/plain": [
              "<matplotlib.axes._subplots.AxesSubplot at 0x7f7f1180f940>"
            ]
          },
          "metadata": {
            "tags": []
          },
          "execution_count": 151
        },
        {
          "output_type": "display_data",
          "data": {
            "image/png": "[encoded data removed]",
            "text/plain": [
              "<matplotlib.figure.Figure at 0x7f7f1179b588>"
            ]
          },
          "metadata": {
            "tags": []
          }
        }
      ]
    },
    {
      "metadata": {
        "id": "Cny4d5EjhRm7",
        "colab_type": "code",
        "outputId": "3e9511a6-bf42-4d35-f2dc-8c7ef20d3b4c",
        "colab": {
          "base_uri": "https://localhost:8080/",
          "height": 87
        }
      },
      "cell_type": "code",
      "source": [
        "# Divide 'Host_Total_Listings_Count' into groups\n",
        "a = pd.cut(df['Host_Total_Listings_Count'], 2)\n",
        "print (df.groupby(a).Listing_Type_Good.mean())"
      ],
      "execution_count": 152,
      "outputs": [
        {
          "output_type": "stream",
          "text": [
            "Host_Total_Listings_Count\n",
            "(-1.114, 557.0]    0.908093\n",
            "(557.0, 1114.0]    0.993719\n",
            "Name: Listing_Type_Good, dtype: float64\n"
          ],
          "name": "stdout"
        }
      ]
    },
    {
      "metadata": {
        "id": "7hbHJPO4htTl",
        "colab_type": "code",
        "colab": {}
      },
      "cell_type": "code",
      "source": [
        "# Assign number to Host_Total_Listings_Count limits\n",
        "df.Host_Total_Listings_Count.loc[ (df.Host_Total_Listings_Count <= 557) ]= 0\n",
        "df.Host_Total_Listings_Count.loc[ (df.Host_Total_Listings_Count > 557) ]= 1\n",
        "\n",
        "test_df.Host_Total_Listings_Count.loc[ (test_df.Host_Total_Listings_Count <= 557) ]= 0\n",
        "test_df.Host_Total_Listings_Count.loc[ (test_df.Host_Total_Listings_Count > 557) ]= 1\n"
      ],
      "execution_count": 0,
      "outputs": []
    },
    {
      "metadata": {
        "id": "0GGcXzDxic3-",
        "colab_type": "text"
      },
      "cell_type": "markdown",
      "source": [
        "## Availability_30 || Availability_60 || Availability_90\n",
        "\n",
        "A/c to corellation matrix Availability_30, Availability_60 and Availability_90 store almost same information. Therefore I decided to keep only 1 of them. I am keeping Availability_30 because if any property is available for 30 days then it is not necessary that it will be still available in 60 days and 90 days. But i also have Availability_365 to keep track.\n",
        "All of them are non-empty columns."
      ]
    },
    {
      "metadata": {
        "id": "oLdJsdrXi_i2",
        "colab_type": "code",
        "outputId": "d95f53a5-595d-42a3-c8a2-ef314275ebe7",
        "colab": {
          "base_uri": "https://localhost:8080/",
          "height": 70
        }
      },
      "cell_type": "code",
      "source": [
        "print(df['Availability_30'].isna().sum())\n",
        "print(df['Availability_60'].isna().sum())\n",
        "print(df['Availability_90'].isna().sum())"
      ],
      "execution_count": 154,
      "outputs": [
        {
          "output_type": "stream",
          "text": [
            "0\n",
            "0\n",
            "0\n"
          ],
          "name": "stdout"
        }
      ]
    },
    {
      "metadata": {
        "id": "Qk-QtWvmjYOa",
        "colab_type": "code",
        "colab": {}
      },
      "cell_type": "code",
      "source": [
        "#Droping\n",
        "df = df.drop(['Availability_60'], axis=1)\n",
        "test_df = test_df.drop(['Availability_60'], axis=1)\n",
        "\n",
        "df = df.drop(['Availability_90'], axis=1)\n",
        "test_df = test_df.drop(['Availability_90'], axis=1)"
      ],
      "execution_count": 0,
      "outputs": []
    },
    {
      "metadata": {
        "id": "pDadaGnolZOk",
        "colab_type": "code",
        "outputId": "e8b0502b-84d9-4ec0-e625-a90369af984b",
        "colab": {
          "base_uri": "https://localhost:8080/",
          "height": 228
        }
      },
      "cell_type": "code",
      "source": [
        "df['Availability_30'].plot(kind='hist', figsize=(15,3),bins=100, xlim=(0,30))"
      ],
      "execution_count": 156,
      "outputs": [
        {
          "output_type": "execute_result",
          "data": {
            "text/plain": [
              "<matplotlib.axes._subplots.AxesSubplot at 0x7f7f115bada0>"
            ]
          },
          "metadata": {
            "tags": []
          },
          "execution_count": 156
        },
        {
          "output_type": "display_data",
          "data": {
            "image/png": "[encoded data removed]",
            "text/plain": [
              "<matplotlib.figure.Figure at 0x7f7f11dc9a20>"
            ]
          },
          "metadata": {
            "tags": []
          }
        }
      ]
    },
    {
      "metadata": {
        "id": "NiBCZ-vZnb6l",
        "colab_type": "code",
        "outputId": "93ec5316-3f86-4ea0-cfa4-8de8906453c0",
        "colab": {
          "base_uri": "https://localhost:8080/",
          "height": 105
        }
      },
      "cell_type": "code",
      "source": [
        "# Divide 'Availability_30' into groups\n",
        "a = pd.cut(df['Availability_30'], 3)\n",
        "print (df.groupby(a).Listing_Type_Good.mean())"
      ],
      "execution_count": 157,
      "outputs": [
        {
          "output_type": "stream",
          "text": [
            "Availability_30\n",
            "(-0.03, 10.0]    0.914248\n",
            "(10.0, 20.0]     0.947215\n",
            "(20.0, 30.0]     0.866857\n",
            "Name: Listing_Type_Good, dtype: float64\n"
          ],
          "name": "stdout"
        }
      ]
    },
    {
      "metadata": {
        "id": "OHc9cgsNoEw3",
        "colab_type": "code",
        "colab": {}
      },
      "cell_type": "code",
      "source": [
        "# Assign number to Availability_30 limits\n",
        "df.Availability_30.loc[ (df.Availability_30 <= 10) ]= 0\n",
        "df.Availability_30.loc[ (df.Availability_30 > 10) & (df.Availability_30 <=  20) ]= 1\n",
        "df.Availability_30.loc[ (df.Availability_30 > 20) ]= 2\n"
      ],
      "execution_count": 0,
      "outputs": []
    },
    {
      "metadata": {
        "id": "uJnqw8n1pJB0",
        "colab_type": "code",
        "colab": {}
      },
      "cell_type": "code",
      "source": [
        "test_df.Availability_30.loc[ (test_df.Availability_30 <= 10) ]= 0\n",
        "test_df.Availability_30.loc[ (test_df.Availability_30 > 10) & (test_df.Availability_30 <=  20) ]= 1\n",
        "test_df.Availability_30.loc[ (test_df.Availability_30 > 20) ]= 2\n"
      ],
      "execution_count": 0,
      "outputs": []
    },
    {
      "metadata": {
        "id": "L_TziGh4pFCW",
        "colab_type": "text"
      },
      "cell_type": "markdown",
      "source": [
        "## Availability_365"
      ]
    },
    {
      "metadata": {
        "id": "FNd6H2TcpEgB",
        "colab_type": "code",
        "outputId": "d45d5aff-32ba-4f89-c01b-45f797d2e889",
        "colab": {
          "base_uri": "https://localhost:8080/",
          "height": 34
        }
      },
      "cell_type": "code",
      "source": [
        "print(df['Availability_365'].isna().sum())"
      ],
      "execution_count": 160,
      "outputs": [
        {
          "output_type": "stream",
          "text": [
            "0\n"
          ],
          "name": "stdout"
        }
      ]
    },
    {
      "metadata": {
        "id": "ds3tr3lapaDD",
        "colab_type": "code",
        "outputId": "70e0b8bb-0504-40d3-b31f-f81d6df381e9",
        "colab": {
          "base_uri": "https://localhost:8080/",
          "height": 228
        }
      },
      "cell_type": "code",
      "source": [
        "df['Availability_365'].plot(kind='hist', figsize=(15,3),bins=100, xlim=(0,365))"
      ],
      "execution_count": 161,
      "outputs": [
        {
          "output_type": "execute_result",
          "data": {
            "text/plain": [
              "<matplotlib.axes._subplots.AxesSubplot at 0x7f7f143f82e8>"
            ]
          },
          "metadata": {
            "tags": []
          },
          "execution_count": 161
        },
        {
          "output_type": "display_data",
          "data": {
            "image/png": "[encoded data removed]",
            "text/plain": [
              "<matplotlib.figure.Figure at 0x7f7f144c9080>"
            ]
          },
          "metadata": {
            "tags": []
          }
        }
      ]
    },
    {
      "metadata": {
        "id": "aX_i01FFpZ6j",
        "colab_type": "code",
        "outputId": "adc840bd-167d-46e0-d383-b6740afa193d",
        "colab": {
          "base_uri": "https://localhost:8080/",
          "height": 141
        }
      },
      "cell_type": "code",
      "source": [
        "# Divide 'Availability_365' into groups\n",
        "a = pd.cut(df['Availability_365'], 5)\n",
        "print (df.groupby(a).Listing_Type_Good.mean())"
      ],
      "execution_count": 162,
      "outputs": [
        {
          "output_type": "stream",
          "text": [
            "Availability_365\n",
            "(-0.365, 73.0]    0.883537\n",
            "(73.0, 146.0]     0.914024\n",
            "(146.0, 219.0]    0.922573\n",
            "(219.0, 292.0]    0.961469\n",
            "(292.0, 365.0]    0.914318\n",
            "Name: Listing_Type_Good, dtype: float64\n"
          ],
          "name": "stdout"
        }
      ]
    },
    {
      "metadata": {
        "id": "xa82pTeVpZ0G",
        "colab_type": "code",
        "colab": {}
      },
      "cell_type": "code",
      "source": [
        "# Assign number to Availability_365 limits\n",
        "df.Availability_365.loc[ (df.Availability_365 <= 73) ]= 0\n",
        "df.Availability_365.loc[ (df.Availability_365 > 73) & (df.Availability_365 <=  146) ]= 1\n",
        "df.Availability_365.loc[ (df.Availability_365 > 146) & (df.Availability_365 <=  219) ]= 2\n",
        "df.Availability_365.loc[ (df.Availability_365 > 219) & (df.Availability_365 <=  292) ]= 3\n",
        "df.Availability_365.loc[ (df.Availability_365 > 292) ]= 4\n",
        "\n",
        "test_df.Availability_365.loc[ (test_df.Availability_365 <= 73) ]= 0\n",
        "test_df.Availability_365.loc[ (test_df.Availability_365 > 73) & (test_df.Availability_365 <=  146) ]= 1\n",
        "test_df.Availability_365.loc[ (test_df.Availability_365 > 146) & (test_df.Availability_365 <=  219) ]= 2\n",
        "test_df.Availability_365.loc[ (test_df.Availability_365 > 219) & (test_df.Availability_365 <=  292) ]= 3\n",
        "test_df.Availability_365.loc[ (test_df.Availability_365 > 292) ]= 4\n"
      ],
      "execution_count": 0,
      "outputs": []
    },
    {
      "metadata": {
        "id": "ShPdstCfrikE",
        "colab_type": "text"
      },
      "cell_type": "markdown",
      "source": [
        "## Minimum Nights"
      ]
    },
    {
      "metadata": {
        "id": "p5pEJxBwrw9Y",
        "colab_type": "code",
        "outputId": "03fe32cc-7ed8-4dd5-e0da-c21c93b1af68",
        "colab": {
          "base_uri": "https://localhost:8080/",
          "height": 34
        }
      },
      "cell_type": "code",
      "source": [
        "df['Minimum_Nights'].isna().sum()\n",
        "test_df['Minimum_Nights'].isna().sum()"
      ],
      "execution_count": 164,
      "outputs": [
        {
          "output_type": "execute_result",
          "data": {
            "text/plain": [
              "0"
            ]
          },
          "metadata": {
            "tags": []
          },
          "execution_count": 164
        }
      ]
    },
    {
      "metadata": {
        "id": "WH66mPTrrlqF",
        "colab_type": "code",
        "outputId": "64e11d4f-82af-4d5f-80b4-be2e8a346820",
        "colab": {
          "base_uri": "https://localhost:8080/",
          "height": 230
        }
      },
      "cell_type": "code",
      "source": [
        "df['Minimum_Nights'].plot(kind='hist', figsize=(15,3),bins=100, xlim=(0,1000))"
      ],
      "execution_count": 165,
      "outputs": [
        {
          "output_type": "execute_result",
          "data": {
            "text/plain": [
              "<matplotlib.axes._subplots.AxesSubplot at 0x7f7f11423780>"
            ]
          },
          "metadata": {
            "tags": []
          },
          "execution_count": 165
        },
        {
          "output_type": "display_data",
          "data": {
            "image/png": "[encoded data removed]",
            "text/plain": [
              "<matplotlib.figure.Figure at 0x7f7f1144a400>"
            ]
          },
          "metadata": {
            "tags": []
          }
        }
      ]
    },
    {
      "metadata": {
        "id": "6Sf6GQ0YsbAk",
        "colab_type": "code",
        "outputId": "a5f8b1ac-5128-4cdf-f407-6ad714a5f375",
        "colab": {
          "base_uri": "https://localhost:8080/",
          "height": 87
        }
      },
      "cell_type": "code",
      "source": [
        "# Divide 'Minimum_Nights' into groups\n",
        "a = pd.cut(df['Minimum_Nights'], 2)\n",
        "print (df.groupby(a).Listing_Type_Good.mean())"
      ],
      "execution_count": 166,
      "outputs": [
        {
          "output_type": "stream",
          "text": [
            "Minimum_Nights\n",
            "(-8.999, 5000.5]     0.908453\n",
            "(5000.5, 10000.0]    1.000000\n",
            "Name: Listing_Type_Good, dtype: float64\n"
          ],
          "name": "stdout"
        }
      ]
    },
    {
      "metadata": {
        "id": "ppMr791fsa0N",
        "colab_type": "code",
        "colab": {}
      },
      "cell_type": "code",
      "source": [
        "# Assign number to Availability_365 limits\n",
        "df.Minimum_Nights.loc[ (df.Minimum_Nights <= 5000.5) ]= 0\n",
        "df.Minimum_Nights.loc[ (df.Minimum_Nights > 5000.5) ]= 1\n",
        "\n",
        "test_df.Minimum_Nights.loc[ (test_df.Minimum_Nights <= 5000.5) ]= 0\n",
        "test_df.Minimum_Nights.loc[ (test_df.Minimum_Nights > 5000.5) ]= 1"
      ],
      "execution_count": 0,
      "outputs": []
    },
    {
      "metadata": {
        "id": "HC0QIPa-Tk0G",
        "colab_type": "text"
      },
      "cell_type": "markdown",
      "source": [
        "## Maximum_Nights"
      ]
    },
    {
      "metadata": {
        "id": "UXTzuydKTn1f",
        "colab_type": "code",
        "outputId": "7efc3c59-29eb-410f-da76-e634e5c68387",
        "colab": {
          "base_uri": "https://localhost:8080/",
          "height": 34
        }
      },
      "cell_type": "code",
      "source": [
        "df['Maximum_Nights'].isna().sum()\n",
        "test_df['Maximum_Nights'].isna().sum()"
      ],
      "execution_count": 168,
      "outputs": [
        {
          "output_type": "execute_result",
          "data": {
            "text/plain": [
              "0"
            ]
          },
          "metadata": {
            "tags": []
          },
          "execution_count": 168
        }
      ]
    },
    {
      "metadata": {
        "id": "jxdvKn0JVKmM",
        "colab_type": "code",
        "colab": {}
      },
      "cell_type": "code",
      "source": [
        "# convert from string to int\n",
        "df.Maximum_Nights = pd.to_numeric(df.Maximum_Nights, errors='coerce')\n",
        "test_df.Maximum_Nights = pd.to_numeric(test_df.Maximum_Nights, errors='coerce')"
      ],
      "execution_count": 0,
      "outputs": []
    },
    {
      "metadata": {
        "id": "jeAK646FTpTN",
        "colab_type": "code",
        "outputId": "047c07c0-a50a-4f6d-e3f5-3edc49c3d07e",
        "colab": {
          "base_uri": "https://localhost:8080/",
          "height": 105
        }
      },
      "cell_type": "code",
      "source": [
        "# Divide 'Maximum_Nights' into groups\n",
        "a = pd.cut(df['Maximum_Nights'], 3)\n",
        "print (df.groupby(a).Listing_Type_Good.mean())"
      ],
      "execution_count": 170,
      "outputs": [
        {
          "output_type": "stream",
          "text": [
            "Maximum_Nights\n",
            "(-2147482.646, 715827883.0]     0.908449\n",
            "(715827883.0, 1431655765.0]     1.000000\n",
            "(1431655765.0, 2147483647.0]    0.933333\n",
            "Name: Listing_Type_Good, dtype: float64\n"
          ],
          "name": "stdout"
        }
      ]
    },
    {
      "metadata": {
        "id": "DFnm6MtrTo5r",
        "colab_type": "code",
        "colab": {}
      },
      "cell_type": "code",
      "source": [
        "# Assign number to Maximum_Nights limits\n",
        "df.Maximum_Nights.loc[ (df.Maximum_Nights <= 715827883) ]= 0\n",
        "df.Maximum_Nights.loc[ (df.Maximum_Nights > 715827883.0) & (df.Maximum_Nights <=  1431655765.0) ]= 1\n",
        "df.Maximum_Nights.loc[ (df.Maximum_Nights > 1431655765.0) ]= 2\n",
        "\n",
        "test_df.Maximum_Nights.loc[ (test_df.Maximum_Nights <= 715827883.0) ]= 0\n",
        "test_df.Maximum_Nights.loc[ (test_df.Maximum_Nights > 715827883.0) & (test_df.Maximum_Nights <=  1431655765.0) ]= 1\n",
        "test_df.Maximum_Nights.loc[ (test_df.Maximum_Nights > 1431655765.0) ]= 2"
      ],
      "execution_count": 0,
      "outputs": []
    },
    {
      "metadata": {
        "id": "11h9gUYd6EFK",
        "colab_type": "text"
      },
      "cell_type": "markdown",
      "source": [
        "## Bathrooms"
      ]
    },
    {
      "metadata": {
        "id": "fTYYt1gB5y6P",
        "colab_type": "code",
        "outputId": "7bff77ac-79f9-4b9c-cdc8-9ee2e94f017e",
        "colab": {
          "base_uri": "https://localhost:8080/",
          "height": 354
        }
      },
      "cell_type": "code",
      "source": [
        "df['Bathrooms'].value_counts()"
      ],
      "execution_count": 172,
      "outputs": [
        {
          "output_type": "execute_result",
          "data": {
            "text/plain": [
              "1.0     260622\n",
              "2.0      39900\n",
              "1.5      19136\n",
              "2.5       6014\n",
              "3.0       5828\n",
              "0.5       1960\n",
              "4.0       1531\n",
              "3.5       1485\n",
              "0.0        948\n",
              "5.0        517\n",
              "4.5        388\n",
              "6.0        237\n",
              "8.0        213\n",
              "5.5        158\n",
              "7.0        106\n",
              "6.5         71\n",
              "7.5         29\n",
              "10.0         1\n",
              "Name: Bathrooms, dtype: int64"
            ]
          },
          "metadata": {
            "tags": []
          },
          "execution_count": 172
        }
      ]
    },
    {
      "metadata": {
        "id": "voYSC1TA6IWj",
        "colab_type": "code",
        "outputId": "4bf0ee71-0c2c-496c-da55-a8b608d6a49f",
        "colab": {
          "base_uri": "https://localhost:8080/",
          "height": 52
        }
      },
      "cell_type": "code",
      "source": [
        "print(df['Bathrooms'].isna().sum())\n",
        "print(test_df['Bathrooms'].isna().sum())"
      ],
      "execution_count": 173,
      "outputs": [
        {
          "output_type": "stream",
          "text": [
            "1044\n",
            "338\n"
          ],
          "name": "stdout"
        }
      ]
    },
    {
      "metadata": {
        "id": "WsMPVNuo6IRU",
        "colab_type": "code",
        "colab": {}
      },
      "cell_type": "code",
      "source": [
        "df['Bathrooms'].fillna(1, inplace=True)\n",
        "test_df['Bathrooms'].fillna(1, inplace=True)"
      ],
      "execution_count": 0,
      "outputs": []
    },
    {
      "metadata": {
        "id": "qCP6qj2F62uH",
        "colab_type": "code",
        "colab": {}
      },
      "cell_type": "code",
      "source": [
        "# convert from float to int\n",
        "df['Bathrooms'] = df['Bathrooms'].astype(int)\n",
        "test_df['Bathrooms'] = test_df['Bathrooms'].astype(int)\n"
      ],
      "execution_count": 0,
      "outputs": []
    },
    {
      "metadata": {
        "id": "1EsBy_XZ5sUV",
        "colab_type": "text"
      },
      "cell_type": "markdown",
      "source": [
        "## Room_Type"
      ]
    },
    {
      "metadata": {
        "id": "cV4nuGD9tic4",
        "colab_type": "code",
        "outputId": "4bb4bc78-30ea-493d-a449-61876c5f9b9e",
        "colab": {
          "base_uri": "https://localhost:8080/",
          "height": 34
        }
      },
      "cell_type": "code",
      "source": [
        "df['Room_Type'].isna().sum()"
      ],
      "execution_count": 176,
      "outputs": [
        {
          "output_type": "execute_result",
          "data": {
            "text/plain": [
              "0"
            ]
          },
          "metadata": {
            "tags": []
          },
          "execution_count": 176
        }
      ]
    },
    {
      "metadata": {
        "id": "fOmGnweX3Qjh",
        "colab_type": "code",
        "outputId": "bcfece63-6f0c-427a-c181-064a0c69b56d",
        "colab": {
          "base_uri": "https://localhost:8080/",
          "height": 244
        }
      },
      "cell_type": "code",
      "source": [
        "plt.figure(figsize=(9,3))\n",
        "sns.heatmap(df.groupby(['Room_Type', 'Bedrooms']).Listing_Type_Good.mean().unstack(), annot=True, fmt=\".0f\")"
      ],
      "execution_count": 177,
      "outputs": [
        {
          "output_type": "execute_result",
          "data": {
            "text/plain": [
              "<matplotlib.axes._subplots.AxesSubplot at 0x7f7f118494e0>"
            ]
          },
          "metadata": {
            "tags": []
          },
          "execution_count": 177
        },
        {
          "output_type": "display_data",
          "data": {
            "image/png": "[encoded data removed]",
            "text/plain": [
              "<matplotlib.figure.Figure at 0x7f7f1129fef0>"
            ]
          },
          "metadata": {
            "tags": []
          }
        }
      ]
    },
    {
      "metadata": {
        "id": "MIt-zHTS4Txs",
        "colab_type": "code",
        "outputId": "d1d22096-3dac-41e1-a820-56f359822b92",
        "colab": {
          "base_uri": "https://localhost:8080/",
          "height": 87
        }
      },
      "cell_type": "code",
      "source": [
        "df['Room_Type'].value_counts()"
      ],
      "execution_count": 178,
      "outputs": [
        {
          "output_type": "execute_result",
          "data": {
            "text/plain": [
              "Entire home/apt    216012\n",
              "Private room       118010\n",
              "Shared room          6166\n",
              "Name: Room_Type, dtype: int64"
            ]
          },
          "metadata": {
            "tags": []
          },
          "execution_count": 178
        }
      ]
    },
    {
      "metadata": {
        "id": "924jdM2t5HAq",
        "colab_type": "code",
        "outputId": "40265619-82ad-4eff-964f-29737cf6d6a3",
        "colab": {
          "base_uri": "https://localhost:8080/",
          "height": 137
        }
      },
      "cell_type": "code",
      "source": [
        "df[['Room_Type', 'Listing_Type_Good']].groupby(['Room_Type'], as_index=False).mean()"
      ],
      "execution_count": 179,
      "outputs": [
        {
          "output_type": "execute_result",
          "data": {
            "text/html": [
              "<div>\n",
              "<style scoped>\n",
              "    .dataframe tbody tr th:only-of-type {\n",
              "        vertical-align: middle;\n",
              "    }\n",
              "\n",
              "    .dataframe tbody tr th {\n",
              "        vertical-align: top;\n",
              "    }\n",
              "\n",
              "    .dataframe thead th {\n",
              "        text-align: right;\n",
              "    }\n",
              "</style>\n",
              "<table border=\"1\" class=\"dataframe\">\n",
              "  <thead>\n",
              "    <tr style=\"text-align: right;\">\n",
              "      <th></th>\n",
              "      <th>Room_Type</th>\n",
              "      <th>Listing_Type_Good</th>\n",
              "    </tr>\n",
              "  </thead>\n",
              "  <tbody>\n",
              "    <tr>\n",
              "      <th>0</th>\n",
              "      <td>Entire home/apt</td>\n",
              "      <td>0.920546</td>\n",
              "    </tr>\n",
              "    <tr>\n",
              "      <th>1</th>\n",
              "      <td>Private room</td>\n",
              "      <td>0.888535</td>\n",
              "    </tr>\n",
              "    <tr>\n",
              "      <th>2</th>\n",
              "      <td>Shared room</td>\n",
              "      <td>0.866040</td>\n",
              "    </tr>\n",
              "  </tbody>\n",
              "</table>\n",
              "</div>"
            ],
            "text/plain": [
              "         Room_Type  Listing_Type_Good\n",
              "0  Entire home/apt           0.920546\n",
              "1     Private room           0.888535\n",
              "2      Shared room           0.866040"
            ]
          },
          "metadata": {
            "tags": []
          },
          "execution_count": 179
        }
      ]
    },
    {
      "metadata": {
        "id": "9ZRp2jc45gtA",
        "colab_type": "code",
        "colab": {}
      },
      "cell_type": "code",
      "source": [
        "# dummy encoding\n",
        "df = pd.get_dummies(df,columns=['Room_Type'])\n",
        "test_df = pd.get_dummies(test_df,columns=['Room_Type'])"
      ],
      "execution_count": 0,
      "outputs": []
    },
    {
      "metadata": {
        "id": "y4MpfZ3kGEEQ",
        "colab_type": "text"
      },
      "cell_type": "markdown",
      "source": [
        "## Beds and Bedrooms"
      ]
    },
    {
      "metadata": {
        "id": "8d7Ml0zD8G7U",
        "colab_type": "code",
        "outputId": "89c48938-0d8b-45f1-b995-ce21e94eeaec",
        "colab": {
          "base_uri": "https://localhost:8080/",
          "height": 87
        }
      },
      "cell_type": "code",
      "source": [
        "print(df['Beds'].isna().sum())\n",
        "print(test_df['Beds'].isna().sum())\n",
        "\n",
        "print(df['Bedrooms'].isna().sum())\n",
        "print(test_df['Bedrooms'].isna().sum())"
      ],
      "execution_count": 181,
      "outputs": [
        {
          "output_type": "stream",
          "text": [
            "660\n",
            "171\n",
            "439\n",
            "125\n"
          ],
          "name": "stdout"
        }
      ]
    },
    {
      "metadata": {
        "id": "O0kPlhBpGc7Y",
        "colab_type": "code",
        "colab": {}
      },
      "cell_type": "code",
      "source": [
        "df['Beds'].fillna(1, inplace=True)\n",
        "test_df['Beds'].fillna(1, inplace=True)\n",
        "\n",
        "df['Bedrooms'].fillna(1, inplace=True)\n",
        "test_df['Bedrooms'].fillna(1, inplace=True)"
      ],
      "execution_count": 0,
      "outputs": []
    },
    {
      "metadata": {
        "id": "4_VVzOLvMAPj",
        "colab_type": "code",
        "colab": {}
      },
      "cell_type": "code",
      "source": [
        "# convert from float to int\n",
        "df['Beds'] = df['Beds'].astype(int)\n",
        "test_df['Beds'] = test_df['Beds'].astype(int)\n"
      ],
      "execution_count": 0,
      "outputs": []
    },
    {
      "metadata": {
        "id": "einwgplQIa04",
        "colab_type": "code",
        "outputId": "e31734db-991e-4df1-d801-2bd3499404c4",
        "colab": {
          "base_uri": "https://localhost:8080/",
          "height": 105
        }
      },
      "cell_type": "code",
      "source": [
        "# Divide 'Beds' into groups\n",
        "a = pd.cut(df['Beds'], 3)\n",
        "print (df.groupby(a).Listing_Type_Good.mean())"
      ],
      "execution_count": 184,
      "outputs": [
        {
          "output_type": "stream",
          "text": [
            "Beds\n",
            "(-0.019, 6.333]    0.908097\n",
            "(6.333, 12.667]    0.931501\n",
            "(12.667, 19.0]     0.916309\n",
            "Name: Listing_Type_Good, dtype: float64\n"
          ],
          "name": "stdout"
        }
      ]
    },
    {
      "metadata": {
        "id": "kmHjKiS6IkGv",
        "colab_type": "code",
        "colab": {}
      },
      "cell_type": "code",
      "source": [
        "# Assign number to Beds limits\n",
        "df.Beds.loc[ (df.Beds <= 6.333) ]= 0\n",
        "df.Beds.loc[ (df.Beds > 6.333) & (df.Beds <=  12.667) ]= 1\n",
        "df.Beds.loc[ (df.Beds > 12.667) ]= 2\n",
        "\n",
        "test_df.Beds.loc[ (test_df.Beds <= 6.333) ]= 0\n",
        "test_df.Beds.loc[ (test_df.Beds > 6.333) & (test_df.Beds <=  12.667) ]= 1\n",
        "test_df.Beds.loc[ (test_df.Beds > 12.667) ]= 2"
      ],
      "execution_count": 0,
      "outputs": []
    },
    {
      "metadata": {
        "id": "d_xCV5VUaD1_",
        "colab_type": "text"
      },
      "cell_type": "markdown",
      "source": [
        "# Cancellation Policy"
      ]
    },
    {
      "metadata": {
        "id": "BpEivpCaJmIE",
        "colab_type": "code",
        "outputId": "adc47a9d-18c4-4af4-8f2f-d89ad9a80100",
        "colab": {
          "base_uri": "https://localhost:8080/",
          "height": 52
        }
      },
      "cell_type": "code",
      "source": [
        "# count the NaN values in a column in df\n",
        "print(df['Cancellation_Policy'].isna().sum())\n",
        "print(test_df['Cancellation_Policy'].isna().sum())"
      ],
      "execution_count": 186,
      "outputs": [
        {
          "output_type": "stream",
          "text": [
            "0\n",
            "0\n"
          ],
          "name": "stdout"
        }
      ]
    },
    {
      "metadata": {
        "id": "PqZ5WumgZm0j",
        "colab_type": "code",
        "outputId": "149f832e-968c-4e66-a81b-5bb9c8726ae9",
        "colab": {
          "base_uri": "https://localhost:8080/",
          "height": 407
        }
      },
      "cell_type": "code",
      "source": [
        "# inspect the correlation between Cancellation_Policy and Listing_Type_Good\n",
        "df[['Cancellation_Policy', 'Listing_Type_Good']].groupby(['Cancellation_Policy'], as_index=False).mean()"
      ],
      "execution_count": 187,
      "outputs": [
        {
          "output_type": "execute_result",
          "data": {
            "text/html": [
              "<div>\n",
              "<style scoped>\n",
              "    .dataframe tbody tr th:only-of-type {\n",
              "        vertical-align: middle;\n",
              "    }\n",
              "\n",
              "    .dataframe tbody tr th {\n",
              "        vertical-align: top;\n",
              "    }\n",
              "\n",
              "    .dataframe thead th {\n",
              "        text-align: right;\n",
              "    }\n",
              "</style>\n",
              "<table border=\"1\" class=\"dataframe\">\n",
              "  <thead>\n",
              "    <tr style=\"text-align: right;\">\n",
              "      <th></th>\n",
              "      <th>Cancellation_Policy</th>\n",
              "      <th>Listing_Type_Good</th>\n",
              "    </tr>\n",
              "  </thead>\n",
              "  <tbody>\n",
              "    <tr>\n",
              "      <th>0</th>\n",
              "      <td>flexible</td>\n",
              "      <td>0.827366</td>\n",
              "    </tr>\n",
              "    <tr>\n",
              "      <th>1</th>\n",
              "      <td>flexible_new</td>\n",
              "      <td>0.847365</td>\n",
              "    </tr>\n",
              "    <tr>\n",
              "      <th>2</th>\n",
              "      <td>long_term</td>\n",
              "      <td>1.000000</td>\n",
              "    </tr>\n",
              "    <tr>\n",
              "      <th>3</th>\n",
              "      <td>moderate</td>\n",
              "      <td>0.945426</td>\n",
              "    </tr>\n",
              "    <tr>\n",
              "      <th>4</th>\n",
              "      <td>moderate_new</td>\n",
              "      <td>0.946935</td>\n",
              "    </tr>\n",
              "    <tr>\n",
              "      <th>5</th>\n",
              "      <td>no_refunds</td>\n",
              "      <td>1.000000</td>\n",
              "    </tr>\n",
              "    <tr>\n",
              "      <th>6</th>\n",
              "      <td>strict</td>\n",
              "      <td>0.950736</td>\n",
              "    </tr>\n",
              "    <tr>\n",
              "      <th>7</th>\n",
              "      <td>strict_new</td>\n",
              "      <td>0.960295</td>\n",
              "    </tr>\n",
              "    <tr>\n",
              "      <th>8</th>\n",
              "      <td>super_strict_30</td>\n",
              "      <td>0.940496</td>\n",
              "    </tr>\n",
              "    <tr>\n",
              "      <th>9</th>\n",
              "      <td>super_strict_30_new</td>\n",
              "      <td>1.000000</td>\n",
              "    </tr>\n",
              "    <tr>\n",
              "      <th>10</th>\n",
              "      <td>super_strict_60</td>\n",
              "      <td>0.923158</td>\n",
              "    </tr>\n",
              "    <tr>\n",
              "      <th>11</th>\n",
              "      <td>super_strict_60_new</td>\n",
              "      <td>0.809524</td>\n",
              "    </tr>\n",
              "  </tbody>\n",
              "</table>\n",
              "</div>"
            ],
            "text/plain": [
              "    Cancellation_Policy  Listing_Type_Good\n",
              "0              flexible           0.827366\n",
              "1          flexible_new           0.847365\n",
              "2             long_term           1.000000\n",
              "3              moderate           0.945426\n",
              "4          moderate_new           0.946935\n",
              "5            no_refunds           1.000000\n",
              "6                strict           0.950736\n",
              "7            strict_new           0.960295\n",
              "8       super_strict_30           0.940496\n",
              "9   super_strict_30_new           1.000000\n",
              "10      super_strict_60           0.923158\n",
              "11  super_strict_60_new           0.809524"
            ]
          },
          "metadata": {
            "tags": []
          },
          "execution_count": 187
        }
      ]
    },
    {
      "metadata": {
        "id": "ncltiKcSaZSu",
        "colab_type": "code",
        "outputId": "6dff821c-f5c6-4cd4-c928-4f34af014e25",
        "colab": {
          "base_uri": "https://localhost:8080/",
          "height": 247
        }
      },
      "cell_type": "code",
      "source": [
        "df['Cancellation_Policy'].value_counts()"
      ],
      "execution_count": 188,
      "outputs": [
        {
          "output_type": "execute_result",
          "data": {
            "text/plain": [
              "strict                 128187\n",
              "flexible               109382\n",
              "moderate                85297\n",
              "moderate_new             5955\n",
              "strict_new               5566\n",
              "flexible_new             4193\n",
              "super_strict_60           950\n",
              "super_strict_30           605\n",
              "super_strict_30_new        27\n",
              "super_strict_60_new        21\n",
              "no_refunds                  3\n",
              "long_term                   2\n",
              "Name: Cancellation_Policy, dtype: int64"
            ]
          },
          "metadata": {
            "tags": []
          },
          "execution_count": 188
        }
      ]
    },
    {
      "metadata": {
        "id": "ERC-dx8WafM1",
        "colab_type": "code",
        "outputId": "a98694aa-daad-40df-e375-70c5c2377705",
        "colab": {
          "base_uri": "https://localhost:8080/",
          "height": 230
        }
      },
      "cell_type": "code",
      "source": [
        "test_df['Cancellation_Policy'].value_counts()"
      ],
      "execution_count": 189,
      "outputs": [
        {
          "output_type": "execute_result",
          "data": {
            "text/plain": [
              "strict                 37777\n",
              "flexible               32396\n",
              "moderate               25535\n",
              "moderate_new            1646\n",
              "strict_new              1614\n",
              "flexible_new            1277\n",
              "super_strict_60          269\n",
              "super_strict_30          176\n",
              "super_strict_30_new        9\n",
              "super_strict_60_new        1\n",
              "no_refunds                 1\n",
              "Name: Cancellation_Policy, dtype: int64"
            ]
          },
          "metadata": {
            "tags": []
          },
          "execution_count": 189
        }
      ]
    },
    {
      "metadata": {
        "id": "6kGONUD2alW4",
        "colab_type": "code",
        "colab": {}
      },
      "cell_type": "code",
      "source": [
        "# The main categories of Ticket are \"strict\", \"flexible\", \"moderate\".\n",
        "\n",
        "# So I will combine \"strict\", \"strict_new\", \"super_strict_60\", \"super_strict_30\", \"super_strict_30_new\", \"super_strict_60_new\",\"long_term\" and \"no_refunds\" together.\n",
        "df['Cancellation_Policy'] = df['Cancellation_Policy'].replace([\"strict_new\", \"super_strict_60\", \"super_strict_30\", \"super_strict_30_new\", \"super_strict_60_new\", \"long_term\", \"no_refunds\"], \"strict\")\n",
        "test_df['Cancellation_Policy'] = test_df['Cancellation_Policy'].replace([\"strict_new\", \"super_strict_60\", \"super_strict_30\", \"super_strict_30_new\", \"super_strict_60_new\", \"no_refunds\"], \"strict\")\n",
        "\n",
        "# Replace \"moderate_new\" by \"moderate\".\n",
        "df['Cancellation_Policy'] = df['Cancellation_Policy'].replace([\"moderate_new\"], \"moderate\")\n",
        "test_df['Cancellation_Policy'] = test_df['Cancellation_Policy'].replace([\"moderate_new\"], \"moderate\")\n",
        "\n",
        "# Replace \"flexible_new\" by \"flexible\" \n",
        "df['Cancellation_Policy'] = df['Cancellation_Policy'].replace([\"flexible_new\"], \"moderate\")\n",
        "test_df['Cancellation_Policy'] = test_df['Cancellation_Policy'].replace([\"flexible_new\"], \"moderate\")"
      ],
      "execution_count": 0,
      "outputs": []
    },
    {
      "metadata": {
        "id": "NWBzznoCatQ0",
        "colab_type": "code",
        "colab": {}
      },
      "cell_type": "code",
      "source": [
        "# dummy encoding\n",
        "df = pd.get_dummies(df,columns=['Cancellation_Policy'])\n",
        "test_df = pd.get_dummies(test_df,columns=['Cancellation_Policy'])"
      ],
      "execution_count": 0,
      "outputs": []
    },
    {
      "metadata": {
        "id": "ymfQj86SayGP",
        "colab_type": "text"
      },
      "cell_type": "markdown",
      "source": [
        "# Experiences_Offered"
      ]
    },
    {
      "metadata": {
        "id": "rKulUq40aw5a",
        "colab_type": "code",
        "outputId": "e60d981a-fc6d-41f5-8cdb-917d2b66995c",
        "colab": {
          "base_uri": "https://localhost:8080/",
          "height": 123
        }
      },
      "cell_type": "code",
      "source": [
        "df['Experiences_Offered'].value_counts()"
      ],
      "execution_count": 192,
      "outputs": [
        {
          "output_type": "execute_result",
          "data": {
            "text/plain": [
              "none        337956\n",
              "business       723\n",
              "social         653\n",
              "family         560\n",
              "romantic       296\n",
              "Name: Experiences_Offered, dtype: int64"
            ]
          },
          "metadata": {
            "tags": []
          },
          "execution_count": 192
        }
      ]
    },
    {
      "metadata": {
        "id": "RffrVNLbbQsw",
        "colab_type": "code",
        "outputId": "6c565ad3-2906-4611-e52a-c272176776c0",
        "colab": {
          "base_uri": "https://localhost:8080/",
          "height": 34
        }
      },
      "cell_type": "code",
      "source": [
        "test_df['Experiences_Offered'].isna().sum()"
      ],
      "execution_count": 193,
      "outputs": [
        {
          "output_type": "execute_result",
          "data": {
            "text/plain": [
              "0"
            ]
          },
          "metadata": {
            "tags": []
          },
          "execution_count": 193
        }
      ]
    },
    {
      "metadata": {
        "id": "sG2rsB3cbXuu",
        "colab_type": "code",
        "colab": {}
      },
      "cell_type": "code",
      "source": [
        "# dummy encoding\n",
        "df = pd.get_dummies(df,columns=['Experiences_Offered'])\n",
        "test_df = pd.get_dummies(test_df,columns=['Experiences_Offered'])"
      ],
      "execution_count": 0,
      "outputs": []
    },
    {
      "metadata": {
        "id": "-dpb3cOMcVR-",
        "colab_type": "text"
      },
      "cell_type": "markdown",
      "source": [
        "# Date"
      ]
    },
    {
      "metadata": {
        "id": "O1LPySQHcYS_",
        "colab_type": "code",
        "colab": {}
      },
      "cell_type": "code",
      "source": [
        "from datetime import datetime\n",
        "from dateutil.parser import parse\n",
        "from datetime import timedelta\n",
        "\n",
        "df['First_Review'] = pd.to_datetime(df['First_Review'])\n",
        "df['Host_Since'] = pd.to_datetime(df['Host_Since'])\n",
        "df['Last_Review'] = pd.to_datetime(df['Last_Review'])\n",
        "df['First_Review'] = df['First_Review'].apply(lambda x: x.date())\n",
        "df['Host_Since'] = df['Host_Since'].apply(lambda x: x.date())\n",
        "df['Last_Review'] = df['Last_Review'].apply(lambda x: x.date())\n",
        "\n",
        "\n",
        "test_df['First_Review'] = pd.to_datetime(test_df['First_Review'])\n",
        "test_df['Host_Since'] = pd.to_datetime(test_df['Host_Since'])\n",
        "test_df['Last_Review'] = pd.to_datetime(test_df['Last_Review'])\n",
        "test_df['First_Review'] = test_df['First_Review'].apply(lambda x: x.date())\n",
        "test_df['Host_Since'] = test_df['Host_Since'].apply(lambda x: x.date())\n",
        "test_df['Last_Review'] = test_df['Last_Review'].apply(lambda x: x.date())\n"
      ],
      "execution_count": 0,
      "outputs": []
    },
    {
      "metadata": {
        "id": "GakaOwT3YlJY",
        "colab_type": "code",
        "colab": {
          "base_uri": "https://localhost:8080/",
          "height": 34
        },
        "outputId": "a4a83e77-ae39-4f22-bc5e-004aa4c3779c"
      },
      "cell_type": "code",
      "source": [
        "df['First_Review'][0]"
      ],
      "execution_count": 196,
      "outputs": [
        {
          "output_type": "execute_result",
          "data": {
            "text/plain": [
              "datetime.date(2011, 8, 27)"
            ]
          },
          "metadata": {
            "tags": []
          },
          "execution_count": 196
        }
      ]
    },
    {
      "metadata": {
        "id": "-w2FOweZaEsi",
        "colab_type": "text"
      },
      "cell_type": "markdown",
      "source": [
        "#Bed_Type"
      ]
    },
    {
      "metadata": {
        "id": "ftlA7J2qYOMF",
        "colab_type": "code",
        "colab": {
          "base_uri": "https://localhost:8080/",
          "height": 123
        },
        "outputId": "fc55de1c-d1bf-44b9-9923-36bf959f512e"
      },
      "cell_type": "code",
      "source": [
        "df['Bed_Type'].value_counts()"
      ],
      "execution_count": 197,
      "outputs": [
        {
          "output_type": "execute_result",
          "data": {
            "text/plain": [
              "Real Bed         328657\n",
              "Pull-out Sofa      6727\n",
              "Futon              2466\n",
              "Couch              1400\n",
              "Airbed              938\n",
              "Name: Bed_Type, dtype: int64"
            ]
          },
          "metadata": {
            "tags": []
          },
          "execution_count": 197
        }
      ]
    },
    {
      "metadata": {
        "id": "5FY04EkAaID4",
        "colab_type": "code",
        "colab": {
          "base_uri": "https://localhost:8080/",
          "height": 34
        },
        "outputId": "619fca22-3238-41fd-a1f9-7619f80eaf75"
      },
      "cell_type": "code",
      "source": [
        "test_df['Bed_Type'].isna().sum()"
      ],
      "execution_count": 198,
      "outputs": [
        {
          "output_type": "execute_result",
          "data": {
            "text/plain": [
              "0"
            ]
          },
          "metadata": {
            "tags": []
          },
          "execution_count": 198
        }
      ]
    },
    {
      "metadata": {
        "id": "QVZDbNgkaSvY",
        "colab_type": "code",
        "colab": {}
      },
      "cell_type": "code",
      "source": [
        "# dummy encoding\n",
        "df = pd.get_dummies(df,columns=['Bed_Type'])\n",
        "test_df = pd.get_dummies(test_df,columns=['Bed_Type'])"
      ],
      "execution_count": 0,
      "outputs": []
    },
    {
      "metadata": {
        "id": "mFrdTWTdcFid",
        "colab_type": "text"
      },
      "cell_type": "markdown",
      "source": [
        "# Amenities"
      ]
    },
    {
      "metadata": {
        "id": "bhB6h6hucJKC",
        "colab_type": "code",
        "colab": {}
      },
      "cell_type": "code",
      "source": [
        "df = df.dropna(subset=['Amenities'])\n",
        "test_df = test_df.dropna(subset=['Amenities'])"
      ],
      "execution_count": 0,
      "outputs": []
    },
    {
      "metadata": {
        "id": "bKvB5aKdexLb",
        "colab_type": "code",
        "colab": {}
      },
      "cell_type": "code",
      "source": [
        "df = df.reset_index(drop = True)"
      ],
      "execution_count": 0,
      "outputs": []
    },
    {
      "metadata": {
        "id": "z6UqBf0ZbCh8",
        "colab_type": "code",
        "colab": {}
      },
      "cell_type": "code",
      "source": [
        "df['Amenities'] = df['Amenities'].map(\n",
        "    lambda amns: \"|\".join([amn.replace(\"}\", \"\").replace(\"{\", \"\").replace('\"', \"\")\\\n",
        "                           for amn in amns.split(\",\")]))"
      ],
      "execution_count": 0,
      "outputs": []
    },
    {
      "metadata": {
        "id": "s1jG7Srhc4sZ",
        "colab_type": "code",
        "colab": {
          "base_uri": "https://localhost:8080/",
          "height": 70
        },
        "outputId": "590e7c6d-76f1-45b8-a07a-7ac9c6ace08c"
      },
      "cell_type": "code",
      "source": [
        "np.concatenate(df['Amenities'].map(lambda amns: amns.split(\"|\")).values)"
      ],
      "execution_count": 213,
      "outputs": [
        {
          "output_type": "execute_result",
          "data": {
            "text/plain": [
              "array(['TV', 'Internet', 'Wireless Internet', ..., 'Iron',\n",
              "       'Laptop friendly workspace',\n",
              "       'translation missing: en.hosting_amenity_50'], dtype='<U42')"
            ]
          },
          "metadata": {
            "tags": []
          },
          "execution_count": 213
        }
      ]
    },
    {
      "metadata": {
        "id": "0zSPE1wEdAqC",
        "colab_type": "code",
        "colab": {}
      },
      "cell_type": "code",
      "source": [
        "amenities = np.unique(np.concatenate(df['Amenities'].map(lambda amns: amns.split(\"|\")).values))\n",
        "amenities_matrix = np.array([df['Amenities'].map(lambda amns: amn in amns).values for amn in amenities])\n"
      ],
      "execution_count": 0,
      "outputs": []
    },
    {
      "metadata": {
        "id": "QHq1zAQKdO3_",
        "colab_type": "code",
        "colab": {
          "base_uri": "https://localhost:8080/",
          "height": 141
        },
        "outputId": "64144d6f-a6f5-41e4-fadc-cb34f3a4579a"
      },
      "cell_type": "code",
      "source": [
        "amenities_matrix"
      ],
      "execution_count": 215,
      "outputs": [
        {
          "output_type": "execute_result",
          "data": {
            "text/plain": [
              "array([[ True,  True,  True, ...,  True,  True,  True],\n",
              "       [False, False, False, ..., False, False, False],\n",
              "       [False, False, False, ..., False, False, False],\n",
              "       ...,\n",
              "       [ True, False,  True, ...,  True,  True,  True],\n",
              "       [False, False, False, ..., False, False, False],\n",
              "       [False, False, False, ...,  True, False,  True]])"
            ]
          },
          "metadata": {
            "tags": []
          },
          "execution_count": 215
        }
      ]
    },
    {
      "metadata": {
        "id": "FqtFAmeldPzZ",
        "colab_type": "code",
        "colab": {
          "base_uri": "https://localhost:8080/",
          "height": 123
        },
        "outputId": "6ac9006e-f7f8-473c-f5fc-0fcc632d2757"
      },
      "cell_type": "code",
      "source": [
        "df['Amenities'].map(lambda amns: amns.split(\"|\")).head()"
      ],
      "execution_count": 216,
      "outputs": [
        {
          "output_type": "execute_result",
          "data": {
            "text/plain": [
              "0    [TV, Internet, Wireless Internet, Air conditio...\n",
              "1    [Internet, Kitchen, Pets live on this property...\n",
              "2    [TV, Internet, Wireless Internet, Kitchen, Hea...\n",
              "3    [TV, Cable TV, Internet, Wireless Internet, Ai...\n",
              "4    [TV, Air conditioning, Kitchen, Smoking allowe...\n",
              "Name: Amenities, dtype: object"
            ]
          },
          "metadata": {
            "tags": []
          },
          "execution_count": 216
        }
      ]
    },
    {
      "metadata": {
        "id": "n2YLYBjydaFJ",
        "colab_type": "code",
        "colab": {
          "base_uri": "https://localhost:8080/",
          "height": 852
        },
        "outputId": "215cffc3-83f5-4505-b12b-a1665d47b414"
      },
      "cell_type": "code",
      "source": [
        "np.unique(np.concatenate(df['Amenities'].map(lambda amns: amns.split(\"|\"))))[1:]\n"
      ],
      "execution_count": 217,
      "outputs": [
        {
          "output_type": "execute_result",
          "data": {
            "text/plain": [
              "array(['24-Hour Check-in', '24-hour check-in', 'Accessible-height bed',\n",
              "       'Accessible-height toilet', 'Air Conditioning', 'Air conditioning',\n",
              "       'BBQ grill', 'Baby bath', 'Baby monitor',\n",
              "       'Babysitter recommendations', 'Bathtub', 'Beach essentials',\n",
              "       'Beachfront', 'Bed linens', 'Breakfast',\n",
              "       'Buzzer/Wireless Intercom', 'Buzzer/wireless intercom', 'Cable TV',\n",
              "       'Carbon Monoxide Detector', 'Carbon monoxide detector', 'Cat(s)',\n",
              "       'Changing table', 'Children’s books and toys',\n",
              "       'Children’s dinnerware', 'Cleaning before checkout',\n",
              "       'Coffee maker', 'Cooking basics', 'Crib', 'Disabled parking spot',\n",
              "       'Dishes and silverware', 'Dishwasher', 'Dog(s)', 'Doorman',\n",
              "       'Doorman Entry', 'Dryer', 'EV charger', 'Elevator in Building',\n",
              "       'Elevator in building', 'Essentials', 'Ethernet connection',\n",
              "       'Extra pillows and blankets', 'Family/Kid Friendly',\n",
              "       'Family/kid friendly', 'Fire Extinguisher', 'Fire extinguisher',\n",
              "       'Fireplace guards', 'Firm matress', 'Firm mattress',\n",
              "       'First Aid Kit', 'First aid kit',\n",
              "       'Flat smooth pathway to front door', 'Free Parking on Premises',\n",
              "       'Free Parking on Street', 'Free parking on premises',\n",
              "       'Free parking on street', 'Game console', 'Garden or backyard',\n",
              "       'Grab-rails for shower and toilet', 'Gym', 'Hair Dryer',\n",
              "       'Hair dryer', 'Hangers', 'Heating', 'High chair',\n",
              "       'Host greets you', 'Hot Tub', 'Hot tub', 'Hot water',\n",
              "       'Indoor Fireplace', 'Indoor fireplace', 'Internet', 'Iron',\n",
              "       'Keypad', 'Kitchen', 'Lake access', 'Laptop Friendly Workspace',\n",
              "       'Laptop friendly workspace', 'Lock on Bedroom Door',\n",
              "       'Lock on bedroom door', 'Lockbox', 'Long term stays allowed',\n",
              "       'Luggage dropoff allowed', 'Microwave', 'Other', 'Other pet(s)',\n",
              "       'Outlet covers', 'Oven', 'Pack ’n Play/travel crib',\n",
              "       'Paid Parking Off Premises', 'Paid parking off premises',\n",
              "       'Path to entrance lit at night', 'Patio or balcony',\n",
              "       'Pets Allowed', 'Pets allowed', 'Pets live on this property',\n",
              "       'Pocket wifi', 'Pool', 'Private bathroom', 'Private entrance',\n",
              "       'Private living room', 'Refrigerator',\n",
              "       'Roll-in shower with shower bench or chair',\n",
              "       'Room-darkening shades', 'Safety Card', 'Safety card',\n",
              "       'Self Check-In', 'Shampoo', 'Single level home', 'Smart lock',\n",
              "       'Smartlock', 'Smoke Detector', 'Smoke detector', 'Smoking Allowed',\n",
              "       'Smoking allowed', 'Stair gates', 'Step-free access', 'Stove',\n",
              "       'Suitable for Events', 'Suitable for events', 'TV',\n",
              "       'Table corner guards', 'Tub with shower bench', 'Washer',\n",
              "       'Washer / Dryer', 'Waterfront', 'Wheelchair Accessible',\n",
              "       'Wheelchair accessible', 'Wide clearance to bed',\n",
              "       'Wide clearance to shower and toilet', 'Wide doorway',\n",
              "       'Wide hallway clearance', 'Window guards', 'Wireless Internet',\n",
              "       'translation missing: en.hosting_amenity_49',\n",
              "       'translation missing: en.hosting_amenity_50'], dtype='<U42')"
            ]
          },
          "metadata": {
            "tags": []
          },
          "execution_count": 217
        }
      ]
    },
    {
      "metadata": {
        "id": "qMvynNlVhqeS",
        "colab_type": "code",
        "colab": {
          "base_uri": "https://localhost:8080/",
          "height": 141
        },
        "outputId": "528d5393-5265-4749-9a30-a7d63a9f0c5c"
      },
      "cell_type": "code",
      "source": [
        "amenities = np.unique(np.concatenate(df['Amenities'].map(lambda amns: amns.split(\"|\"))))[1:]\n",
        "amenity_arr = np.array([df['Amenities'].map(lambda amns: amn in amns) for amn in amenities])\n",
        "amenity_arr"
      ],
      "execution_count": 221,
      "outputs": [
        {
          "output_type": "execute_result",
          "data": {
            "text/plain": [
              "array([[False, False, False, ..., False, False, False],\n",
              "       [False, False, False, ..., False, False, False],\n",
              "       [False, False, False, ..., False, False, False],\n",
              "       ...,\n",
              "       [ True, False,  True, ...,  True,  True,  True],\n",
              "       [False, False, False, ..., False, False, False],\n",
              "       [False, False, False, ...,  True, False,  True]])"
            ]
          },
          "metadata": {
            "tags": []
          },
          "execution_count": 221
        }
      ]
    },
    {
      "metadata": {
        "id": "EyD2VED0bk0c",
        "colab_type": "text"
      },
      "cell_type": "markdown",
      "source": [
        "#Model trainig"
      ]
    },
    {
      "metadata": {
        "id": "wQP1MS5mbjxJ",
        "colab_type": "code",
        "colab": {}
      },
      "cell_type": "code",
      "source": [
        "features = df[['Rating', 'Host_Response_Rate', 'Bathrooms', 'Bedrooms', 'Beds', 'Maximum_Nights', 'Minimum_Nights', 'Availability_30', 'Availability_365', 'Extra_People',\n",
        "                      'Room_Type_Entire home/apt', 'Room_Type_Private room', 'Room_Type_Shared room', 'Number_of_Reviews', 'Cancellation_Policy_flexible', 'Cancellation_Policy_moderate',\n",
        "                      'Cancellation_Policy_strict', 'Experiences_Offered_business', 'Experiences_Offered_family', 'Experiences_Offered_none', 'Experiences_Offered_romantic', \n",
        "                       'Experiences_Offered_social', 'Bed_Type_Airbed', 'Bed_Type_Couch', 'Bed_Type_Futon', 'Bed_Type_Pull-out Sofa', 'Bed_Type_Real Bed']]"
      ],
      "execution_count": 0,
      "outputs": []
    },
    {
      "metadata": {
        "id": "HgVdWq6zbiMm",
        "colab_type": "code",
        "outputId": "7779a435-7289-4817-afaf-756b16f7cace",
        "colab": {
          "base_uri": "https://localhost:8080/",
          "height": 263
        }
      },
      "cell_type": "code",
      "source": [
        "features.head()"
      ],
      "execution_count": 223,
      "outputs": [
        {
          "output_type": "execute_result",
          "data": {
            "text/html": [
              "<div>\n",
              "<style scoped>\n",
              "    .dataframe tbody tr th:only-of-type {\n",
              "        vertical-align: middle;\n",
              "    }\n",
              "\n",
              "    .dataframe tbody tr th {\n",
              "        vertical-align: top;\n",
              "    }\n",
              "\n",
              "    .dataframe thead th {\n",
              "        text-align: right;\n",
              "    }\n",
              "</style>\n",
              "<table border=\"1\" class=\"dataframe\">\n",
              "  <thead>\n",
              "    <tr style=\"text-align: right;\">\n",
              "      <th></th>\n",
              "      <th>Rating</th>\n",
              "      <th>Host_Response_Rate</th>\n",
              "      <th>Bathrooms</th>\n",
              "      <th>Bedrooms</th>\n",
              "      <th>Beds</th>\n",
              "      <th>Maximum_Nights</th>\n",
              "      <th>Minimum_Nights</th>\n",
              "      <th>Availability_30</th>\n",
              "      <th>Availability_365</th>\n",
              "      <th>Extra_People</th>\n",
              "      <th>...</th>\n",
              "      <th>Experiences_Offered_business</th>\n",
              "      <th>Experiences_Offered_family</th>\n",
              "      <th>Experiences_Offered_none</th>\n",
              "      <th>Experiences_Offered_romantic</th>\n",
              "      <th>Experiences_Offered_social</th>\n",
              "      <th>Bed_Type_Airbed</th>\n",
              "      <th>Bed_Type_Couch</th>\n",
              "      <th>Bed_Type_Futon</th>\n",
              "      <th>Bed_Type_Pull-out Sofa</th>\n",
              "      <th>Bed_Type_Real Bed</th>\n",
              "    </tr>\n",
              "  </thead>\n",
              "  <tbody>\n",
              "    <tr>\n",
              "      <th>0</th>\n",
              "      <td>0</td>\n",
              "      <td>3</td>\n",
              "      <td>1</td>\n",
              "      <td>1.0</td>\n",
              "      <td>0</td>\n",
              "      <td>0.0</td>\n",
              "      <td>0.0</td>\n",
              "      <td>2.0</td>\n",
              "      <td>1.0</td>\n",
              "      <td>0</td>\n",
              "      <td>...</td>\n",
              "      <td>0</td>\n",
              "      <td>0</td>\n",
              "      <td>1</td>\n",
              "      <td>0</td>\n",
              "      <td>0</td>\n",
              "      <td>0</td>\n",
              "      <td>0</td>\n",
              "      <td>0</td>\n",
              "      <td>0</td>\n",
              "      <td>1</td>\n",
              "    </tr>\n",
              "    <tr>\n",
              "      <th>1</th>\n",
              "      <td>0</td>\n",
              "      <td>3</td>\n",
              "      <td>1</td>\n",
              "      <td>1.0</td>\n",
              "      <td>0</td>\n",
              "      <td>0.0</td>\n",
              "      <td>0.0</td>\n",
              "      <td>0.0</td>\n",
              "      <td>2.0</td>\n",
              "      <td>0</td>\n",
              "      <td>...</td>\n",
              "      <td>0</td>\n",
              "      <td>0</td>\n",
              "      <td>1</td>\n",
              "      <td>0</td>\n",
              "      <td>0</td>\n",
              "      <td>0</td>\n",
              "      <td>0</td>\n",
              "      <td>0</td>\n",
              "      <td>0</td>\n",
              "      <td>1</td>\n",
              "    </tr>\n",
              "    <tr>\n",
              "      <th>2</th>\n",
              "      <td>0</td>\n",
              "      <td>3</td>\n",
              "      <td>1</td>\n",
              "      <td>2.0</td>\n",
              "      <td>0</td>\n",
              "      <td>0.0</td>\n",
              "      <td>0.0</td>\n",
              "      <td>0.0</td>\n",
              "      <td>0.0</td>\n",
              "      <td>0</td>\n",
              "      <td>...</td>\n",
              "      <td>0</td>\n",
              "      <td>0</td>\n",
              "      <td>1</td>\n",
              "      <td>0</td>\n",
              "      <td>0</td>\n",
              "      <td>0</td>\n",
              "      <td>0</td>\n",
              "      <td>0</td>\n",
              "      <td>0</td>\n",
              "      <td>1</td>\n",
              "    </tr>\n",
              "    <tr>\n",
              "      <th>3</th>\n",
              "      <td>1</td>\n",
              "      <td>3</td>\n",
              "      <td>1</td>\n",
              "      <td>1.0</td>\n",
              "      <td>0</td>\n",
              "      <td>0.0</td>\n",
              "      <td>0.0</td>\n",
              "      <td>0.0</td>\n",
              "      <td>0.0</td>\n",
              "      <td>0</td>\n",
              "      <td>...</td>\n",
              "      <td>0</td>\n",
              "      <td>0</td>\n",
              "      <td>1</td>\n",
              "      <td>0</td>\n",
              "      <td>0</td>\n",
              "      <td>0</td>\n",
              "      <td>0</td>\n",
              "      <td>0</td>\n",
              "      <td>0</td>\n",
              "      <td>1</td>\n",
              "    </tr>\n",
              "    <tr>\n",
              "      <th>4</th>\n",
              "      <td>1</td>\n",
              "      <td>3</td>\n",
              "      <td>1</td>\n",
              "      <td>1.0</td>\n",
              "      <td>0</td>\n",
              "      <td>0.0</td>\n",
              "      <td>0.0</td>\n",
              "      <td>0.0</td>\n",
              "      <td>0.0</td>\n",
              "      <td>0</td>\n",
              "      <td>...</td>\n",
              "      <td>0</td>\n",
              "      <td>0</td>\n",
              "      <td>1</td>\n",
              "      <td>0</td>\n",
              "      <td>0</td>\n",
              "      <td>0</td>\n",
              "      <td>0</td>\n",
              "      <td>0</td>\n",
              "      <td>0</td>\n",
              "      <td>1</td>\n",
              "    </tr>\n",
              "  </tbody>\n",
              "</table>\n",
              "<p>5 rows × 27 columns</p>\n",
              "</div>"
            ],
            "text/plain": [
              "   Rating  Host_Response_Rate  Bathrooms  Bedrooms  Beds  Maximum_Nights  \\\n",
              "0       0                   3          1       1.0     0             0.0   \n",
              "1       0                   3          1       1.0     0             0.0   \n",
              "2       0                   3          1       2.0     0             0.0   \n",
              "3       1                   3          1       1.0     0             0.0   \n",
              "4       1                   3          1       1.0     0             0.0   \n",
              "\n",
              "   Minimum_Nights  Availability_30  Availability_365  Extra_People  \\\n",
              "0             0.0              2.0               1.0             0   \n",
              "1             0.0              0.0               2.0             0   \n",
              "2             0.0              0.0               0.0             0   \n",
              "3             0.0              0.0               0.0             0   \n",
              "4             0.0              0.0               0.0             0   \n",
              "\n",
              "         ...          Experiences_Offered_business  \\\n",
              "0        ...                                     0   \n",
              "1        ...                                     0   \n",
              "2        ...                                     0   \n",
              "3        ...                                     0   \n",
              "4        ...                                     0   \n",
              "\n",
              "   Experiences_Offered_family  Experiences_Offered_none  \\\n",
              "0                           0                         1   \n",
              "1                           0                         1   \n",
              "2                           0                         1   \n",
              "3                           0                         1   \n",
              "4                           0                         1   \n",
              "\n",
              "   Experiences_Offered_romantic  Experiences_Offered_social  Bed_Type_Airbed  \\\n",
              "0                             0                           0                0   \n",
              "1                             0                           0                0   \n",
              "2                             0                           0                0   \n",
              "3                             0                           0                0   \n",
              "4                             0                           0                0   \n",
              "\n",
              "   Bed_Type_Couch  Bed_Type_Futon  Bed_Type_Pull-out Sofa  Bed_Type_Real Bed  \n",
              "0               0               0                       0                  1  \n",
              "1               0               0                       0                  1  \n",
              "2               0               0                       0                  1  \n",
              "3               0               0                       0                  1  \n",
              "4               0               0                       0                  1  \n",
              "\n",
              "[5 rows x 27 columns]"
            ]
          },
          "metadata": {
            "tags": []
          },
          "execution_count": 223
        }
      ]
    },
    {
      "metadata": {
        "id": "CMjzvtdEh8P8",
        "colab_type": "text"
      },
      "cell_type": "markdown",
      "source": [
        "Introducing Amenities"
      ]
    },
    {
      "metadata": {
        "id": "NzrKRGwuhYg5",
        "colab_type": "code",
        "colab": {}
      },
      "cell_type": "code",
      "source": [
        "features = pd.concat([features, pd.DataFrame(data=amenity_arr.T, columns=amenities)], axis=1)"
      ],
      "execution_count": 0,
      "outputs": []
    },
    {
      "metadata": {
        "id": "VIOdtTCIiPh_",
        "colab_type": "code",
        "colab": {
          "base_uri": "https://localhost:8080/",
          "height": 313
        },
        "outputId": "4814596c-7095-42ee-dcf0-214ee9f12217"
      },
      "cell_type": "code",
      "source": [
        "features.head()"
      ],
      "execution_count": 226,
      "outputs": [
        {
          "output_type": "execute_result",
          "data": {
            "text/html": [
              "<div>\n",
              "<style scoped>\n",
              "    .dataframe tbody tr th:only-of-type {\n",
              "        vertical-align: middle;\n",
              "    }\n",
              "\n",
              "    .dataframe tbody tr th {\n",
              "        vertical-align: top;\n",
              "    }\n",
              "\n",
              "    .dataframe thead th {\n",
              "        text-align: right;\n",
              "    }\n",
              "</style>\n",
              "<table border=\"1\" class=\"dataframe\">\n",
              "  <thead>\n",
              "    <tr style=\"text-align: right;\">\n",
              "      <th></th>\n",
              "      <th>Rating</th>\n",
              "      <th>Host_Response_Rate</th>\n",
              "      <th>Bathrooms</th>\n",
              "      <th>Bedrooms</th>\n",
              "      <th>Beds</th>\n",
              "      <th>Maximum_Nights</th>\n",
              "      <th>Minimum_Nights</th>\n",
              "      <th>Availability_30</th>\n",
              "      <th>Availability_365</th>\n",
              "      <th>Extra_People</th>\n",
              "      <th>...</th>\n",
              "      <th>Wheelchair Accessible</th>\n",
              "      <th>Wheelchair accessible</th>\n",
              "      <th>Wide clearance to bed</th>\n",
              "      <th>Wide clearance to shower and toilet</th>\n",
              "      <th>Wide doorway</th>\n",
              "      <th>Wide hallway clearance</th>\n",
              "      <th>Window guards</th>\n",
              "      <th>Wireless Internet</th>\n",
              "      <th>translation missing: en.hosting_amenity_49</th>\n",
              "      <th>translation missing: en.hosting_amenity_50</th>\n",
              "    </tr>\n",
              "  </thead>\n",
              "  <tbody>\n",
              "    <tr>\n",
              "      <th>0</th>\n",
              "      <td>0</td>\n",
              "      <td>3</td>\n",
              "      <td>1</td>\n",
              "      <td>1.0</td>\n",
              "      <td>0</td>\n",
              "      <td>0.0</td>\n",
              "      <td>0.0</td>\n",
              "      <td>2.0</td>\n",
              "      <td>1.0</td>\n",
              "      <td>0</td>\n",
              "      <td>...</td>\n",
              "      <td>False</td>\n",
              "      <td>False</td>\n",
              "      <td>False</td>\n",
              "      <td>False</td>\n",
              "      <td>False</td>\n",
              "      <td>False</td>\n",
              "      <td>False</td>\n",
              "      <td>True</td>\n",
              "      <td>False</td>\n",
              "      <td>False</td>\n",
              "    </tr>\n",
              "    <tr>\n",
              "      <th>1</th>\n",
              "      <td>0</td>\n",
              "      <td>3</td>\n",
              "      <td>1</td>\n",
              "      <td>1.0</td>\n",
              "      <td>0</td>\n",
              "      <td>0.0</td>\n",
              "      <td>0.0</td>\n",
              "      <td>0.0</td>\n",
              "      <td>2.0</td>\n",
              "      <td>0</td>\n",
              "      <td>...</td>\n",
              "      <td>False</td>\n",
              "      <td>False</td>\n",
              "      <td>False</td>\n",
              "      <td>False</td>\n",
              "      <td>False</td>\n",
              "      <td>False</td>\n",
              "      <td>False</td>\n",
              "      <td>False</td>\n",
              "      <td>False</td>\n",
              "      <td>False</td>\n",
              "    </tr>\n",
              "    <tr>\n",
              "      <th>2</th>\n",
              "      <td>0</td>\n",
              "      <td>3</td>\n",
              "      <td>1</td>\n",
              "      <td>2.0</td>\n",
              "      <td>0</td>\n",
              "      <td>0.0</td>\n",
              "      <td>0.0</td>\n",
              "      <td>0.0</td>\n",
              "      <td>0.0</td>\n",
              "      <td>0</td>\n",
              "      <td>...</td>\n",
              "      <td>False</td>\n",
              "      <td>False</td>\n",
              "      <td>False</td>\n",
              "      <td>False</td>\n",
              "      <td>False</td>\n",
              "      <td>False</td>\n",
              "      <td>False</td>\n",
              "      <td>True</td>\n",
              "      <td>False</td>\n",
              "      <td>False</td>\n",
              "    </tr>\n",
              "    <tr>\n",
              "      <th>3</th>\n",
              "      <td>1</td>\n",
              "      <td>3</td>\n",
              "      <td>1</td>\n",
              "      <td>1.0</td>\n",
              "      <td>0</td>\n",
              "      <td>0.0</td>\n",
              "      <td>0.0</td>\n",
              "      <td>0.0</td>\n",
              "      <td>0.0</td>\n",
              "      <td>0</td>\n",
              "      <td>...</td>\n",
              "      <td>False</td>\n",
              "      <td>True</td>\n",
              "      <td>False</td>\n",
              "      <td>False</td>\n",
              "      <td>False</td>\n",
              "      <td>False</td>\n",
              "      <td>False</td>\n",
              "      <td>True</td>\n",
              "      <td>False</td>\n",
              "      <td>False</td>\n",
              "    </tr>\n",
              "    <tr>\n",
              "      <th>4</th>\n",
              "      <td>1</td>\n",
              "      <td>3</td>\n",
              "      <td>1</td>\n",
              "      <td>1.0</td>\n",
              "      <td>0</td>\n",
              "      <td>0.0</td>\n",
              "      <td>0.0</td>\n",
              "      <td>0.0</td>\n",
              "      <td>0.0</td>\n",
              "      <td>0</td>\n",
              "      <td>...</td>\n",
              "      <td>False</td>\n",
              "      <td>False</td>\n",
              "      <td>False</td>\n",
              "      <td>False</td>\n",
              "      <td>False</td>\n",
              "      <td>False</td>\n",
              "      <td>False</td>\n",
              "      <td>False</td>\n",
              "      <td>False</td>\n",
              "      <td>False</td>\n",
              "    </tr>\n",
              "  </tbody>\n",
              "</table>\n",
              "<p>5 rows × 162 columns</p>\n",
              "</div>"
            ],
            "text/plain": [
              "   Rating  Host_Response_Rate  Bathrooms  Bedrooms  Beds  Maximum_Nights  \\\n",
              "0       0                   3          1       1.0     0             0.0   \n",
              "1       0                   3          1       1.0     0             0.0   \n",
              "2       0                   3          1       2.0     0             0.0   \n",
              "3       1                   3          1       1.0     0             0.0   \n",
              "4       1                   3          1       1.0     0             0.0   \n",
              "\n",
              "   Minimum_Nights  Availability_30  Availability_365  Extra_People  \\\n",
              "0             0.0              2.0               1.0             0   \n",
              "1             0.0              0.0               2.0             0   \n",
              "2             0.0              0.0               0.0             0   \n",
              "3             0.0              0.0               0.0             0   \n",
              "4             0.0              0.0               0.0             0   \n",
              "\n",
              "                      ...                      Wheelchair Accessible  \\\n",
              "0                     ...                                      False   \n",
              "1                     ...                                      False   \n",
              "2                     ...                                      False   \n",
              "3                     ...                                      False   \n",
              "4                     ...                                      False   \n",
              "\n",
              "   Wheelchair accessible  Wide clearance to bed  \\\n",
              "0                  False                  False   \n",
              "1                  False                  False   \n",
              "2                  False                  False   \n",
              "3                   True                  False   \n",
              "4                  False                  False   \n",
              "\n",
              "   Wide clearance to shower and toilet  Wide doorway  Wide hallway clearance  \\\n",
              "0                                False         False                   False   \n",
              "1                                False         False                   False   \n",
              "2                                False         False                   False   \n",
              "3                                False         False                   False   \n",
              "4                                False         False                   False   \n",
              "\n",
              "   Window guards  Wireless Internet  \\\n",
              "0          False               True   \n",
              "1          False              False   \n",
              "2          False               True   \n",
              "3          False               True   \n",
              "4          False              False   \n",
              "\n",
              "   translation missing: en.hosting_amenity_49  \\\n",
              "0                                       False   \n",
              "1                                       False   \n",
              "2                                       False   \n",
              "3                                       False   \n",
              "4                                       False   \n",
              "\n",
              "   translation missing: en.hosting_amenity_50  \n",
              "0                                       False  \n",
              "1                                       False  \n",
              "2                                       False  \n",
              "3                                       False  \n",
              "4                                       False  \n",
              "\n",
              "[5 rows x 162 columns]"
            ]
          },
          "metadata": {
            "tags": []
          },
          "execution_count": 226
        }
      ]
    },
    {
      "metadata": {
        "id": "1wrW6zO3cCtH",
        "colab_type": "code",
        "outputId": "1fb7504e-4fd8-4b32-815b-207aa2cd5257",
        "colab": {
          "base_uri": "https://localhost:8080/",
          "height": 2896
        }
      },
      "cell_type": "code",
      "source": [
        "list(features.columns.values)\n"
      ],
      "execution_count": 227,
      "outputs": [
        {
          "output_type": "execute_result",
          "data": {
            "text/plain": [
              "['Rating',\n",
              " 'Host_Response_Rate',\n",
              " 'Bathrooms',\n",
              " 'Bedrooms',\n",
              " 'Beds',\n",
              " 'Maximum_Nights',\n",
              " 'Minimum_Nights',\n",
              " 'Availability_30',\n",
              " 'Availability_365',\n",
              " 'Extra_People',\n",
              " 'Room_Type_Entire home/apt',\n",
              " 'Room_Type_Private room',\n",
              " 'Room_Type_Shared room',\n",
              " 'Number_of_Reviews',\n",
              " 'Cancellation_Policy_flexible',\n",
              " 'Cancellation_Policy_moderate',\n",
              " 'Cancellation_Policy_strict',\n",
              " 'Experiences_Offered_business',\n",
              " 'Experiences_Offered_family',\n",
              " 'Experiences_Offered_none',\n",
              " 'Experiences_Offered_romantic',\n",
              " 'Experiences_Offered_social',\n",
              " 'Bed_Type_Airbed',\n",
              " 'Bed_Type_Couch',\n",
              " 'Bed_Type_Futon',\n",
              " 'Bed_Type_Pull-out Sofa',\n",
              " 'Bed_Type_Real Bed',\n",
              " '24-Hour Check-in',\n",
              " '24-hour check-in',\n",
              " 'Accessible-height bed',\n",
              " 'Accessible-height toilet',\n",
              " 'Air Conditioning',\n",
              " 'Air conditioning',\n",
              " 'BBQ grill',\n",
              " 'Baby bath',\n",
              " 'Baby monitor',\n",
              " 'Babysitter recommendations',\n",
              " 'Bathtub',\n",
              " 'Beach essentials',\n",
              " 'Beachfront',\n",
              " 'Bed linens',\n",
              " 'Breakfast',\n",
              " 'Buzzer/Wireless Intercom',\n",
              " 'Buzzer/wireless intercom',\n",
              " 'Cable TV',\n",
              " 'Carbon Monoxide Detector',\n",
              " 'Carbon monoxide detector',\n",
              " 'Cat(s)',\n",
              " 'Changing table',\n",
              " 'Children’s books and toys',\n",
              " 'Children’s dinnerware',\n",
              " 'Cleaning before checkout',\n",
              " 'Coffee maker',\n",
              " 'Cooking basics',\n",
              " 'Crib',\n",
              " 'Disabled parking spot',\n",
              " 'Dishes and silverware',\n",
              " 'Dishwasher',\n",
              " 'Dog(s)',\n",
              " 'Doorman',\n",
              " 'Doorman Entry',\n",
              " 'Dryer',\n",
              " 'EV charger',\n",
              " 'Elevator in Building',\n",
              " 'Elevator in building',\n",
              " 'Essentials',\n",
              " 'Ethernet connection',\n",
              " 'Extra pillows and blankets',\n",
              " 'Family/Kid Friendly',\n",
              " 'Family/kid friendly',\n",
              " 'Fire Extinguisher',\n",
              " 'Fire extinguisher',\n",
              " 'Fireplace guards',\n",
              " 'Firm matress',\n",
              " 'Firm mattress',\n",
              " 'First Aid Kit',\n",
              " 'First aid kit',\n",
              " 'Flat smooth pathway to front door',\n",
              " 'Free Parking on Premises',\n",
              " 'Free Parking on Street',\n",
              " 'Free parking on premises',\n",
              " 'Free parking on street',\n",
              " 'Game console',\n",
              " 'Garden or backyard',\n",
              " 'Grab-rails for shower and toilet',\n",
              " 'Gym',\n",
              " 'Hair Dryer',\n",
              " 'Hair dryer',\n",
              " 'Hangers',\n",
              " 'Heating',\n",
              " 'High chair',\n",
              " 'Host greets you',\n",
              " 'Hot Tub',\n",
              " 'Hot tub',\n",
              " 'Hot water',\n",
              " 'Indoor Fireplace',\n",
              " 'Indoor fireplace',\n",
              " 'Internet',\n",
              " 'Iron',\n",
              " 'Keypad',\n",
              " 'Kitchen',\n",
              " 'Lake access',\n",
              " 'Laptop Friendly Workspace',\n",
              " 'Laptop friendly workspace',\n",
              " 'Lock on Bedroom Door',\n",
              " 'Lock on bedroom door',\n",
              " 'Lockbox',\n",
              " 'Long term stays allowed',\n",
              " 'Luggage dropoff allowed',\n",
              " 'Microwave',\n",
              " 'Other',\n",
              " 'Other pet(s)',\n",
              " 'Outlet covers',\n",
              " 'Oven',\n",
              " 'Pack ’n Play/travel crib',\n",
              " 'Paid Parking Off Premises',\n",
              " 'Paid parking off premises',\n",
              " 'Path to entrance lit at night',\n",
              " 'Patio or balcony',\n",
              " 'Pets Allowed',\n",
              " 'Pets allowed',\n",
              " 'Pets live on this property',\n",
              " 'Pocket wifi',\n",
              " 'Pool',\n",
              " 'Private bathroom',\n",
              " 'Private entrance',\n",
              " 'Private living room',\n",
              " 'Refrigerator',\n",
              " 'Roll-in shower with shower bench or chair',\n",
              " 'Room-darkening shades',\n",
              " 'Safety Card',\n",
              " 'Safety card',\n",
              " 'Self Check-In',\n",
              " 'Shampoo',\n",
              " 'Single level home',\n",
              " 'Smart lock',\n",
              " 'Smartlock',\n",
              " 'Smoke Detector',\n",
              " 'Smoke detector',\n",
              " 'Smoking Allowed',\n",
              " 'Smoking allowed',\n",
              " 'Stair gates',\n",
              " 'Step-free access',\n",
              " 'Stove',\n",
              " 'Suitable for Events',\n",
              " 'Suitable for events',\n",
              " 'TV',\n",
              " 'Table corner guards',\n",
              " 'Tub with shower bench',\n",
              " 'Washer',\n",
              " 'Washer / Dryer',\n",
              " 'Waterfront',\n",
              " 'Wheelchair Accessible',\n",
              " 'Wheelchair accessible',\n",
              " 'Wide clearance to bed',\n",
              " 'Wide clearance to shower and toilet',\n",
              " 'Wide doorway',\n",
              " 'Wide hallway clearance',\n",
              " 'Window guards',\n",
              " 'Wireless Internet',\n",
              " 'translation missing: en.hosting_amenity_49',\n",
              " 'translation missing: en.hosting_amenity_50']"
            ]
          },
          "metadata": {
            "tags": []
          },
          "execution_count": 227
        }
      ]
    },
    {
      "metadata": {
        "id": "2RbQEXXTfgMH",
        "colab_type": "code",
        "colab": {}
      },
      "cell_type": "code",
      "source": [
        "from sklearn.model_selection import train_test_split\n",
        "\n",
        "X_train, X_test, y_train, y_test = train_test_split(features, df['Listing_Type_Good'], test_size = 0.001, random_state = 891990)\n",
        "y_train = y_train.reshape(-1, 1)\n",
        "y_test = y_test.reshape(-1, 1)\n",
        "# Feature Scaling\n",
        "from sklearn.preprocessing import StandardScaler\n",
        "\n",
        "sc_X = StandardScaler()\n",
        "X_train = sc_X.fit_transform(X_train)\n",
        "X_test = sc_X.transform(X_test)\n"
      ],
      "execution_count": 0,
      "outputs": []
    },
    {
      "metadata": {
        "id": "JwuALnvpgh7C",
        "colab_type": "code",
        "colab": {}
      },
      "cell_type": "code",
      "source": [
        "gbm = xgb.XGBClassifier(n_estimators= 2000,max_depth= 4,min_child_weight= 2,gamma=0.9,subsample=0.8,colsample_bytree=0.8,\n",
        "                        objective= 'binary:logistic',nthread= -1,scale_pos_weight=1)\n",
        "gbm.fit(X_train, y_train)\n",
        "\n",
        "Y_pred = gbm.predict(X_test)\n",
        "\n",
        "gbm.score(X_train, y_train)"
      ],
      "execution_count": 0,
      "outputs": []
    },
    {
      "metadata": {
        "id": "pWy1FSTqhiqt",
        "colab_type": "code",
        "colab": {}
      },
      "cell_type": "code",
      "source": [
        "import pickle\n",
        "pickle.dump(gbm, open(\"People_Model.pickle.dat\", \"wb\"))"
      ],
      "execution_count": 0,
      "outputs": []
    }
  ]
}